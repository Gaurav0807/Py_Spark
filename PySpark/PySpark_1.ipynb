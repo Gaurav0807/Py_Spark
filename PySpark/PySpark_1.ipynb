{
 "cells": [
  {
   "cell_type": "code",
   "execution_count": 115,
   "id": "0803a348",
   "metadata": {},
   "outputs": [],
   "source": [
    "from pyspark.sql import SparkSession\n",
    "spark=SparkSession.builder.appName('Practise').getOrCreate()"
   ]
  },
  {
   "cell_type": "code",
   "execution_count": 116,
   "id": "2e6a7801",
   "metadata": {},
   "outputs": [],
   "source": [
    "pyspark1=spark.read.csv('Book1.csv',inferSchema=True,header=True)"
   ]
  },
  {
   "cell_type": "code",
   "execution_count": 117,
   "id": "b16b0689",
   "metadata": {},
   "outputs": [
    {
     "name": "stdout",
     "output_type": "stream",
     "text": [
      "+------------+----+----------+\n",
      "|        Name|Agre|Experience|\n",
      "+------------+----+----------+\n",
      "|Gaurav Rawat|  22|         1|\n",
      "|      Deepak|  20|         2|\n",
      "|      Hardik|  19|         1|\n",
      "|      Shivam|  21|         2|\n",
      "|       Ayush|  21|         3|\n",
      "|        null|   6|      null|\n",
      "|        null|null|         8|\n",
      "+------------+----+----------+\n",
      "\n"
     ]
    }
   ],
   "source": [
    "pyspark1.show()"
   ]
  },
  {
   "cell_type": "code",
   "execution_count": 118,
   "id": "a296324f",
   "metadata": {},
   "outputs": [],
   "source": [
    "pyspark1=pyspark1.withColumnRenamed('Agre','Age')"
   ]
  },
  {
   "cell_type": "code",
   "execution_count": 119,
   "id": "26a89417",
   "metadata": {},
   "outputs": [
    {
     "name": "stdout",
     "output_type": "stream",
     "text": [
      "+------------+----+----------+\n",
      "|        Name| Age|Experience|\n",
      "+------------+----+----------+\n",
      "|Gaurav Rawat|  22|         1|\n",
      "|      Deepak|  20|         2|\n",
      "|      Hardik|  19|         1|\n",
      "|      Shivam|  21|         2|\n",
      "|       Ayush|  21|         3|\n",
      "|        null|   6|      null|\n",
      "|        null|null|         8|\n",
      "+------------+----+----------+\n",
      "\n"
     ]
    }
   ],
   "source": [
    "pyspark1.show()"
   ]
  },
  {
   "cell_type": "code",
   "execution_count": 120,
   "id": "d0233d7c",
   "metadata": {},
   "outputs": [
    {
     "name": "stdout",
     "output_type": "stream",
     "text": [
      "+------------+----+----------+\n",
      "|        Name| Age|Experience|\n",
      "+------------+----+----------+\n",
      "|Gaurav Rawat|  22|         1|\n",
      "|      Deepak|  20|         2|\n",
      "|      Hardik|  19|         1|\n",
      "|      Shivam|  21|         2|\n",
      "|       Ayush|  21|         3|\n",
      "|        null|null|         8|\n",
      "+------------+----+----------+\n",
      "\n"
     ]
    }
   ],
   "source": [
    "#Drop Null value rows\n",
    "#how means delete row if it has one null or more null value\n",
    "#how==all means if whole row is null the drop that row\n",
    "#how==any means if any row has null then drop that row\n",
    "#thresh=1 means it check if it has 2 non-null value are their or not .if their then it will not drop\n",
    "#Subset:- with delete that row that contain null value\n",
    "pyspark1=pyspark1.na.drop(how=\"any\",subset=['Experience'])\n",
    "pyspark1.show()"
   ]
  },
  {
   "cell_type": "code",
   "execution_count": 132,
   "id": "79a197f7",
   "metadata": {},
   "outputs": [
    {
     "name": "stdout",
     "output_type": "stream",
     "text": [
      "+--------------+----+----------+\n",
      "|          Name| Age|Experience|\n",
      "+--------------+----+----------+\n",
      "|  Gaurav Rawat|  22|         1|\n",
      "|        Deepak|  20|         2|\n",
      "|        Hardik|  19|         1|\n",
      "|        Shivam|  21|         2|\n",
      "|         Ayush|  21|         3|\n",
      "|Missing Values|null|         8|\n",
      "+--------------+----+----------+\n",
      "\n"
     ]
    }
   ],
   "source": [
    "#filling missing values\n",
    "#na.fill('Missing values',Column name)\n",
    "a=pyspark1.na.fill('Missing Values',['Name','Experience','Age'])\n",
    "a.show()"
   ]
  },
  {
   "cell_type": "code",
   "execution_count": 135,
   "id": "7dbd3860",
   "metadata": {},
   "outputs": [],
   "source": [
    "from pyspark.ml.feature import Imputer\n",
    "\n",
    "imputer = Imputer(\n",
    "    inputCols=['Age','Experience'],\n",
    "    outputCols=[\"{}_imputed\".format(c) for c in ['Age','Experience']]\n",
    "    ).setStrategy(\"median\")"
   ]
  },
  {
   "cell_type": "code",
   "execution_count": 146,
   "id": "823f0893",
   "metadata": {},
   "outputs": [
    {
     "name": "stdout",
     "output_type": "stream",
     "text": [
      "+------------+----+----------+-----------+------------------+\n",
      "|        Name| Age|Experience|Age_imputed|Experience_imputed|\n",
      "+------------+----+----------+-----------+------------------+\n",
      "|Gaurav Rawat|  22|         1|         22|                 1|\n",
      "|      Deepak|  20|         2|         20|                 2|\n",
      "|      Hardik|  19|         1|         19|                 1|\n",
      "|      Shivam|  21|         2|         21|                 2|\n",
      "|       Ayush|  21|         3|         21|                 3|\n",
      "|        null|null|         8|         21|                 8|\n",
      "+------------+----+----------+-----------+------------------+\n",
      "\n"
     ]
    }
   ],
   "source": [
    "# Add imputation cols to df\n",
    "b=imputer.fit(pyspark1).transform(pyspark1)\n",
    "b.show()"
   ]
  },
  {
   "cell_type": "code",
   "execution_count": 148,
   "id": "a9f3b3ce",
   "metadata": {},
   "outputs": [
    {
     "name": "stdout",
     "output_type": "stream",
     "text": [
      "+------+---+------------------+\n",
      "|  Name|Age|Experience_imputed|\n",
      "+------+---+------------------+\n",
      "|Deepak| 20|                 2|\n",
      "|Shivam| 21|                 2|\n",
      "| Ayush| 21|                 3|\n",
      "+------+---+------------------+\n",
      "\n"
     ]
    }
   ],
   "source": [
    "#Filter\n",
    "c=b.filter((b[\"Experience\"]>=2) & (b['Age']!=0)).select([\"Name\",\"Age\",\"Experience_imputed\"])\n",
    "c.show()"
   ]
  },
  {
   "cell_type": "code",
   "execution_count": null,
   "id": "5dd13229",
   "metadata": {},
   "outputs": [],
   "source": []
  }
 ],
 "metadata": {
  "kernelspec": {
   "display_name": "Python 3 (ipykernel)",
   "language": "python",
   "name": "python3"
  },
  "language_info": {
   "codemirror_mode": {
    "name": "ipython",
    "version": 3
   },
   "file_extension": ".py",
   "mimetype": "text/x-python",
   "name": "python",
   "nbconvert_exporter": "python",
   "pygments_lexer": "ipython3",
   "version": "3.8.0"
  }
 },
 "nbformat": 4,
 "nbformat_minor": 5
}

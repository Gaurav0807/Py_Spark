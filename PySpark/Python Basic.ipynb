{
 "cells": [
  {
   "cell_type": "code",
   "execution_count": 2,
   "id": "840fbc36",
   "metadata": {},
   "outputs": [
    {
     "name": "stdout",
     "output_type": "stream",
     "text": [
      "I am parent class function\n",
      "I am child class function\n"
     ]
    }
   ],
   "source": [
    "#Single Inheritance\n",
    "class Parent:\n",
    "    def par_func(self):\n",
    "        print(\"I am parent class function\")\n",
    "class ChildClass(Parent):\n",
    "    def child_func(self):\n",
    "        print(\"I am child class function\")\n",
    "\n",
    "a=ChildClass()\n",
    "a.par_func()\n",
    "a.child_func()"
   ]
  },
  {
   "cell_type": "code",
   "execution_count": 6,
   "id": "a0c2f43f",
   "metadata": {},
   "outputs": [
    {
     "name": "stdout",
     "output_type": "stream",
     "text": [
      "0\n",
      "1\n",
      "2\n"
     ]
    }
   ],
   "source": [
    "def gen(n):   #yield \n",
    "    for i in range(n):\n",
    "        yield i\n",
    "\n",
    "a=gen(3)\n",
    "print(a.__next__())\n",
    "print(a.__next__())\n",
    "print(a.__next__())\n"
   ]
  },
  {
   "cell_type": "code",
   "execution_count": 9,
   "id": "f4196743",
   "metadata": {},
   "outputs": [
    {
     "name": "stdout",
     "output_type": "stream",
     "text": [
      "0 Python\n",
      "1 C++\n",
      "2 Java\n",
      "3 Scala\n"
     ]
    }
   ],
   "source": [
    "a=('Python','C++','Java','Scala') #Enumerate() function adds a counter to an iterable object\n",
    "for i,j in enumerate(a):\n",
    "    print(i,j)"
   ]
  },
  {
   "cell_type": "code",
   "execution_count": 14,
   "id": "11c83f68",
   "metadata": {},
   "outputs": [
    {
     "name": "stdout",
     "output_type": "stream",
     "text": [
      "['Scala', 'Java', 'C++', 'Python']\n",
      "['C++', 'Python']\n"
     ]
    }
   ],
   "source": [
    "a=['Python','C++','Java','Scala']\n",
    "b=a[::-1]\n",
    "print(b)\n",
    "c=a[1::-1]\n",
    "print(c)"
   ]
  },
  {
   "cell_type": "code",
   "execution_count": 20,
   "id": "db03ac0c",
   "metadata": {},
   "outputs": [
    {
     "name": "stdout",
     "output_type": "stream",
     "text": [
      "[0, 2, 4, 6, 8, 10, 12, 14, 16, 18]\n"
     ]
    }
   ],
   "source": [
    "a=[x for x in range(20) if x%2==0] #list compression\n",
    "print(a)"
   ]
  },
  {
   "cell_type": "code",
   "execution_count": 24,
   "id": "7b7d8a46",
   "metadata": {},
   "outputs": [
    {
     "name": "stdout",
     "output_type": "stream",
     "text": [
      "HII, MY NAME IS GAURAV RAWAT.\n",
      "hii, my name is gaurav rawat.\n"
     ]
    }
   ],
   "source": [
    "def shout(text):\n",
    "    return text.upper()\n",
    "def whisper(text):\n",
    "    return text.lower()\n",
    "\n",
    "def greet(func):\n",
    "    greeting=func(\"Hii, My name is Gaurav Rawat.\")\n",
    "    print(greeting)\n",
    "\n",
    "greet(shout)\n",
    "greet(whisper)"
   ]
  },
  {
   "cell_type": "code",
   "execution_count": null,
   "id": "96d0550c",
   "metadata": {},
   "outputs": [],
   "source": []
  }
 ],
 "metadata": {
  "kernelspec": {
   "display_name": "Python 3 (ipykernel)",
   "language": "python",
   "name": "python3"
  },
  "language_info": {
   "codemirror_mode": {
    "name": "ipython",
    "version": 3
   },
   "file_extension": ".py",
   "mimetype": "text/x-python",
   "name": "python",
   "nbconvert_exporter": "python",
   "pygments_lexer": "ipython3",
   "version": "3.8.0"
  }
 },
 "nbformat": 4,
 "nbformat_minor": 5
}

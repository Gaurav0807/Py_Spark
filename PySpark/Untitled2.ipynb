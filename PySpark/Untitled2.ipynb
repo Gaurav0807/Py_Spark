{
 "cells": [
  {
   "cell_type": "code",
   "execution_count": 1,
   "id": "f64dc0cd",
   "metadata": {},
   "outputs": [],
   "source": [
    "from pyspark.sql import SparkSession\n",
    "from pyspark.sql.types import *\n"
   ]
  },
  {
   "cell_type": "code",
   "execution_count": 2,
   "id": "ed8bd069",
   "metadata": {},
   "outputs": [],
   "source": [
    "spark=SparkSession.builder.appName(\"EmptyDataFrame\").getOrCreate()\n",
    "empty_RDD=spark.sparkContext.emptyRDD()\n",
    "columns=StructType([])\n",
    "data=spark.createDataFrame(data=empty_RDD,schema=columns)\n"
   ]
  },
  {
   "cell_type": "code",
   "execution_count": 4,
   "id": "1624aec9",
   "metadata": {},
   "outputs": [
    {
     "name": "stdout",
     "output_type": "stream",
     "text": [
      "++\n",
      "||\n",
      "++\n",
      "++\n",
      "\n",
      "root\n",
      "\n"
     ]
    }
   ],
   "source": [
    "data.show()\n",
    "data.printSchema()"
   ]
  },
  {
   "cell_type": "code",
   "execution_count": null,
   "id": "1def2854",
   "metadata": {},
   "outputs": [],
   "source": []
  }
 ],
 "metadata": {
  "kernelspec": {
   "display_name": "Python 3 (ipykernel)",
   "language": "python",
   "name": "python3"
  },
  "language_info": {
   "codemirror_mode": {
    "name": "ipython",
    "version": 3
   },
   "file_extension": ".py",
   "mimetype": "text/x-python",
   "name": "python",
   "nbconvert_exporter": "python",
   "pygments_lexer": "ipython3",
   "version": "3.8.0"
  }
 },
 "nbformat": 4,
 "nbformat_minor": 5
}

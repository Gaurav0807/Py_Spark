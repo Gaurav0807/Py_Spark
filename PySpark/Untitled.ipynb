{
 "cells": [
  {
   "cell_type": "code",
   "execution_count": 2,
   "id": "96246679",
   "metadata": {},
   "outputs": [
    {
     "name": "stdout",
     "output_type": "stream",
     "text": [
      "Defaulting to user installation because normal site-packages is not writeable\n",
      "Collecting boto3\n",
      "  Downloading boto3-1.20.28-py3-none-any.whl (131 kB)\n",
      "Collecting botocore<1.24.0,>=1.23.28\n",
      "  Downloading botocore-1.23.28-py3-none-any.whl (8.5 MB)\n",
      "Collecting jmespath<1.0.0,>=0.7.1\n",
      "  Downloading jmespath-0.10.0-py2.py3-none-any.whl (24 kB)\n",
      "Collecting s3transfer<0.6.0,>=0.5.0\n",
      "  Downloading s3transfer-0.5.0-py3-none-any.whl (79 kB)\n",
      "Collecting urllib3<1.27,>=1.25.4\n",
      "  Downloading urllib3-1.26.7-py2.py3-none-any.whl (138 kB)\n",
      "Requirement already satisfied: python-dateutil<3.0.0,>=2.1 in c:\\users\\gaurav rawat\\appdata\\roaming\\python\\python38\\site-packages (from botocore<1.24.0,>=1.23.28->boto3) (2.8.2)\n",
      "Requirement already satisfied: six>=1.5 in c:\\users\\gaurav rawat\\appdata\\roaming\\python\\python38\\site-packages (from python-dateutil<3.0.0,>=2.1->botocore<1.24.0,>=1.23.28->boto3) (1.16.0)\n",
      "Installing collected packages: urllib3, jmespath, botocore, s3transfer, boto3\n",
      "Successfully installed boto3-1.20.28 botocore-1.23.28 jmespath-0.10.0 s3transfer-0.5.0 urllib3-1.26.7\n"
     ]
    },
    {
     "name": "stderr",
     "output_type": "stream",
     "text": [
      "WARNING: pip is being invoked by an old script wrapper. This will fail in a future version of pip.\n",
      "Please see https://github.com/pypa/pip/issues/5599 for advice on fixing the underlying issue.\n",
      "To avoid this problem you can invoke Python with '-m pip' instead of running pip directly.\n"
     ]
    }
   ],
   "source": [
    "!pip install boto3"
   ]
  },
  {
   "cell_type": "code",
   "execution_count": 7,
   "id": "a1e58c79",
   "metadata": {},
   "outputs": [
    {
     "ename": "NoRegionError",
     "evalue": "You must specify a region.",
     "output_type": "error",
     "traceback": [
      "\u001b[1;31m---------------------------------------------------------------------------\u001b[0m",
      "\u001b[1;31mNoRegionError\u001b[0m                             Traceback (most recent call last)",
      "\u001b[1;32mC:\\Users\\GAURAV~1\\AppData\\Local\\Temp/ipykernel_24964/377595382.py\u001b[0m in \u001b[0;36m<module>\u001b[1;34m\u001b[0m\n\u001b[0;32m      1\u001b[0m \u001b[1;32mimport\u001b[0m \u001b[0mboto3\u001b[0m\u001b[1;33m\u001b[0m\u001b[1;33m\u001b[0m\u001b[0m\n\u001b[0;32m      2\u001b[0m \u001b[0mtable_name\u001b[0m\u001b[1;33m=\u001b[0m\u001b[1;34m'Movies'\u001b[0m\u001b[1;33m\u001b[0m\u001b[1;33m\u001b[0m\u001b[0m\n\u001b[1;32m----> 3\u001b[1;33m \u001b[0mdynamodb_client\u001b[0m \u001b[1;33m=\u001b[0m \u001b[0mboto3\u001b[0m\u001b[1;33m.\u001b[0m\u001b[0mclient\u001b[0m\u001b[1;33m(\u001b[0m\u001b[1;34m'dynamodb'\u001b[0m\u001b[1;33m)\u001b[0m\u001b[1;33m\u001b[0m\u001b[1;33m\u001b[0m\u001b[0m\n\u001b[0m\u001b[0;32m      4\u001b[0m item_scarface={\n\u001b[0;32m      5\u001b[0m     \u001b[1;34m'Title'\u001b[0m\u001b[1;33m:\u001b[0m\u001b[1;33m{\u001b[0m\u001b[1;34m'S'\u001b[0m\u001b[1;33m:\u001b[0m\u001b[1;34m'Scarface'\u001b[0m\u001b[1;33m}\u001b[0m\u001b[1;33m,\u001b[0m\u001b[1;33m\u001b[0m\u001b[1;33m\u001b[0m\u001b[0m\n",
      "\u001b[1;32m~\\AppData\\Roaming\\Python\\Python38\\site-packages\\boto3\\__init__.py\u001b[0m in \u001b[0;36mclient\u001b[1;34m(*args, **kwargs)\u001b[0m\n\u001b[0;32m     91\u001b[0m     \u001b[0mSee\u001b[0m \u001b[1;33m:\u001b[0m\u001b[0mpy\u001b[0m\u001b[1;33m:\u001b[0m\u001b[0mmeth\u001b[0m\u001b[1;33m:\u001b[0m\u001b[0;31m`\u001b[0m\u001b[0mboto3\u001b[0m\u001b[1;33m.\u001b[0m\u001b[0msession\u001b[0m\u001b[1;33m.\u001b[0m\u001b[0mSession\u001b[0m\u001b[1;33m.\u001b[0m\u001b[0mclient\u001b[0m\u001b[0;31m`\u001b[0m\u001b[1;33m.\u001b[0m\u001b[1;33m\u001b[0m\u001b[1;33m\u001b[0m\u001b[0m\n\u001b[0;32m     92\u001b[0m     \"\"\"\n\u001b[1;32m---> 93\u001b[1;33m     \u001b[1;32mreturn\u001b[0m \u001b[0m_get_default_session\u001b[0m\u001b[1;33m(\u001b[0m\u001b[1;33m)\u001b[0m\u001b[1;33m.\u001b[0m\u001b[0mclient\u001b[0m\u001b[1;33m(\u001b[0m\u001b[1;33m*\u001b[0m\u001b[0margs\u001b[0m\u001b[1;33m,\u001b[0m \u001b[1;33m**\u001b[0m\u001b[0mkwargs\u001b[0m\u001b[1;33m)\u001b[0m\u001b[1;33m\u001b[0m\u001b[1;33m\u001b[0m\u001b[0m\n\u001b[0m\u001b[0;32m     94\u001b[0m \u001b[1;33m\u001b[0m\u001b[0m\n\u001b[0;32m     95\u001b[0m \u001b[1;33m\u001b[0m\u001b[0m\n",
      "\u001b[1;32m~\\AppData\\Roaming\\Python\\Python38\\site-packages\\boto3\\session.py\u001b[0m in \u001b[0;36mclient\u001b[1;34m(self, service_name, region_name, api_version, use_ssl, verify, endpoint_url, aws_access_key_id, aws_secret_access_key, aws_session_token, config)\u001b[0m\n\u001b[0;32m    268\u001b[0m \u001b[1;33m\u001b[0m\u001b[0m\n\u001b[0;32m    269\u001b[0m         \"\"\"\n\u001b[1;32m--> 270\u001b[1;33m         return self._session.create_client(\n\u001b[0m\u001b[0;32m    271\u001b[0m             \u001b[0mservice_name\u001b[0m\u001b[1;33m,\u001b[0m \u001b[0mregion_name\u001b[0m\u001b[1;33m=\u001b[0m\u001b[0mregion_name\u001b[0m\u001b[1;33m,\u001b[0m \u001b[0mapi_version\u001b[0m\u001b[1;33m=\u001b[0m\u001b[0mapi_version\u001b[0m\u001b[1;33m,\u001b[0m\u001b[1;33m\u001b[0m\u001b[1;33m\u001b[0m\u001b[0m\n\u001b[0;32m    272\u001b[0m             \u001b[0muse_ssl\u001b[0m\u001b[1;33m=\u001b[0m\u001b[0muse_ssl\u001b[0m\u001b[1;33m,\u001b[0m \u001b[0mverify\u001b[0m\u001b[1;33m=\u001b[0m\u001b[0mverify\u001b[0m\u001b[1;33m,\u001b[0m \u001b[0mendpoint_url\u001b[0m\u001b[1;33m=\u001b[0m\u001b[0mendpoint_url\u001b[0m\u001b[1;33m,\u001b[0m\u001b[1;33m\u001b[0m\u001b[1;33m\u001b[0m\u001b[0m\n",
      "\u001b[1;32m~\\AppData\\Roaming\\Python\\Python38\\site-packages\\botocore\\session.py\u001b[0m in \u001b[0;36mcreate_client\u001b[1;34m(self, service_name, region_name, api_version, use_ssl, verify, endpoint_url, aws_access_key_id, aws_secret_access_key, aws_session_token, config)\u001b[0m\n\u001b[0;32m    839\u001b[0m             \u001b[0mretryhandler\u001b[0m\u001b[1;33m,\u001b[0m \u001b[0mtranslate\u001b[0m\u001b[1;33m,\u001b[0m \u001b[0mresponse_parser_factory\u001b[0m\u001b[1;33m,\u001b[0m\u001b[1;33m\u001b[0m\u001b[1;33m\u001b[0m\u001b[0m\n\u001b[0;32m    840\u001b[0m             exceptions_factory, config_store)\n\u001b[1;32m--> 841\u001b[1;33m         client = client_creator.create_client(\n\u001b[0m\u001b[0;32m    842\u001b[0m             \u001b[0mservice_name\u001b[0m\u001b[1;33m=\u001b[0m\u001b[0mservice_name\u001b[0m\u001b[1;33m,\u001b[0m \u001b[0mregion_name\u001b[0m\u001b[1;33m=\u001b[0m\u001b[0mregion_name\u001b[0m\u001b[1;33m,\u001b[0m\u001b[1;33m\u001b[0m\u001b[1;33m\u001b[0m\u001b[0m\n\u001b[0;32m    843\u001b[0m             \u001b[0mis_secure\u001b[0m\u001b[1;33m=\u001b[0m\u001b[0muse_ssl\u001b[0m\u001b[1;33m,\u001b[0m \u001b[0mendpoint_url\u001b[0m\u001b[1;33m=\u001b[0m\u001b[0mendpoint_url\u001b[0m\u001b[1;33m,\u001b[0m \u001b[0mverify\u001b[0m\u001b[1;33m=\u001b[0m\u001b[0mverify\u001b[0m\u001b[1;33m,\u001b[0m\u001b[1;33m\u001b[0m\u001b[1;33m\u001b[0m\u001b[0m\n",
      "\u001b[1;32m~\\AppData\\Roaming\\Python\\Python38\\site-packages\\botocore\\client.py\u001b[0m in \u001b[0;36mcreate_client\u001b[1;34m(self, service_name, region_name, is_secure, endpoint_url, verify, credentials, scoped_config, api_version, client_config)\u001b[0m\n\u001b[0;32m     89\u001b[0m             \u001b[0mservice_signing_name\u001b[0m\u001b[1;33m=\u001b[0m\u001b[0mservice_model\u001b[0m\u001b[1;33m.\u001b[0m\u001b[0mmetadata\u001b[0m\u001b[1;33m.\u001b[0m\u001b[0mget\u001b[0m\u001b[1;33m(\u001b[0m\u001b[1;34m'signingName'\u001b[0m\u001b[1;33m)\u001b[0m\u001b[1;33m,\u001b[0m\u001b[1;33m\u001b[0m\u001b[1;33m\u001b[0m\u001b[0m\n\u001b[0;32m     90\u001b[0m             config_store=self._config_store)\n\u001b[1;32m---> 91\u001b[1;33m         client_args = self._get_client_args(\n\u001b[0m\u001b[0;32m     92\u001b[0m             \u001b[0mservice_model\u001b[0m\u001b[1;33m,\u001b[0m \u001b[0mregion_name\u001b[0m\u001b[1;33m,\u001b[0m \u001b[0mis_secure\u001b[0m\u001b[1;33m,\u001b[0m \u001b[0mendpoint_url\u001b[0m\u001b[1;33m,\u001b[0m\u001b[1;33m\u001b[0m\u001b[1;33m\u001b[0m\u001b[0m\n\u001b[0;32m     93\u001b[0m             verify, credentials, scoped_config, client_config, endpoint_bridge)\n",
      "\u001b[1;32m~\\AppData\\Roaming\\Python\\Python38\\site-packages\\botocore\\client.py\u001b[0m in \u001b[0;36m_get_client_args\u001b[1;34m(self, service_model, region_name, is_secure, endpoint_url, verify, credentials, scoped_config, client_config, endpoint_bridge)\u001b[0m\n\u001b[0;32m    358\u001b[0m             \u001b[0mself\u001b[0m\u001b[1;33m.\u001b[0m\u001b[0m_response_parser_factory\u001b[0m\u001b[1;33m,\u001b[0m \u001b[0mself\u001b[0m\u001b[1;33m.\u001b[0m\u001b[0m_loader\u001b[0m\u001b[1;33m,\u001b[0m\u001b[1;33m\u001b[0m\u001b[1;33m\u001b[0m\u001b[0m\n\u001b[0;32m    359\u001b[0m             self._exceptions_factory, config_store=self._config_store)\n\u001b[1;32m--> 360\u001b[1;33m         return args_creator.get_client_args(\n\u001b[0m\u001b[0;32m    361\u001b[0m             \u001b[0mservice_model\u001b[0m\u001b[1;33m,\u001b[0m \u001b[0mregion_name\u001b[0m\u001b[1;33m,\u001b[0m \u001b[0mis_secure\u001b[0m\u001b[1;33m,\u001b[0m \u001b[0mendpoint_url\u001b[0m\u001b[1;33m,\u001b[0m\u001b[1;33m\u001b[0m\u001b[1;33m\u001b[0m\u001b[0m\n\u001b[0;32m    362\u001b[0m             verify, credentials, scoped_config, client_config, endpoint_bridge)\n",
      "\u001b[1;32m~\\AppData\\Roaming\\Python\\Python38\\site-packages\\botocore\\args.py\u001b[0m in \u001b[0;36mget_client_args\u001b[1;34m(self, service_model, region_name, is_secure, endpoint_url, verify, credentials, scoped_config, client_config, endpoint_bridge)\u001b[0m\n\u001b[0;32m     69\u001b[0m                         \u001b[0mendpoint_url\u001b[0m\u001b[1;33m,\u001b[0m \u001b[0mverify\u001b[0m\u001b[1;33m,\u001b[0m \u001b[0mcredentials\u001b[0m\u001b[1;33m,\u001b[0m \u001b[0mscoped_config\u001b[0m\u001b[1;33m,\u001b[0m\u001b[1;33m\u001b[0m\u001b[1;33m\u001b[0m\u001b[0m\n\u001b[0;32m     70\u001b[0m                         client_config, endpoint_bridge):\n\u001b[1;32m---> 71\u001b[1;33m         final_args = self.compute_client_args(\n\u001b[0m\u001b[0;32m     72\u001b[0m             \u001b[0mservice_model\u001b[0m\u001b[1;33m,\u001b[0m \u001b[0mclient_config\u001b[0m\u001b[1;33m,\u001b[0m \u001b[0mendpoint_bridge\u001b[0m\u001b[1;33m,\u001b[0m \u001b[0mregion_name\u001b[0m\u001b[1;33m,\u001b[0m\u001b[1;33m\u001b[0m\u001b[1;33m\u001b[0m\u001b[0m\n\u001b[0;32m     73\u001b[0m             endpoint_url, is_secure, scoped_config)\n",
      "\u001b[1;32m~\\AppData\\Roaming\\Python\\Python38\\site-packages\\botocore\\args.py\u001b[0m in \u001b[0;36mcompute_client_args\u001b[1;34m(self, service_model, client_config, endpoint_bridge, region_name, endpoint_url, is_secure, scoped_config)\u001b[0m\n\u001b[0;32m    146\u001b[0m \u001b[1;33m\u001b[0m\u001b[0m\n\u001b[0;32m    147\u001b[0m         \u001b[0ms3_config\u001b[0m \u001b[1;33m=\u001b[0m \u001b[0mself\u001b[0m\u001b[1;33m.\u001b[0m\u001b[0mcompute_s3_config\u001b[0m\u001b[1;33m(\u001b[0m\u001b[0mclient_config\u001b[0m\u001b[1;33m)\u001b[0m\u001b[1;33m\u001b[0m\u001b[1;33m\u001b[0m\u001b[0m\n\u001b[1;32m--> 148\u001b[1;33m         endpoint_config = self._compute_endpoint_config(\n\u001b[0m\u001b[0;32m    149\u001b[0m             \u001b[0mservice_name\u001b[0m\u001b[1;33m=\u001b[0m\u001b[0mservice_name\u001b[0m\u001b[1;33m,\u001b[0m\u001b[1;33m\u001b[0m\u001b[1;33m\u001b[0m\u001b[0m\n\u001b[0;32m    150\u001b[0m             \u001b[0mregion_name\u001b[0m\u001b[1;33m=\u001b[0m\u001b[0mregion_name\u001b[0m\u001b[1;33m,\u001b[0m\u001b[1;33m\u001b[0m\u001b[1;33m\u001b[0m\u001b[0m\n",
      "\u001b[1;32m~\\AppData\\Roaming\\Python\\Python38\\site-packages\\botocore\\args.py\u001b[0m in \u001b[0;36m_compute_endpoint_config\u001b[1;34m(self, service_name, region_name, endpoint_url, is_secure, endpoint_bridge, s3_config)\u001b[0m\n\u001b[0;32m    231\u001b[0m         \u001b[1;32mif\u001b[0m \u001b[0mservice_name\u001b[0m \u001b[1;33m==\u001b[0m \u001b[1;34m'sts'\u001b[0m\u001b[1;33m:\u001b[0m\u001b[1;33m\u001b[0m\u001b[1;33m\u001b[0m\u001b[0m\n\u001b[0;32m    232\u001b[0m             \u001b[1;32mreturn\u001b[0m \u001b[0mself\u001b[0m\u001b[1;33m.\u001b[0m\u001b[0m_compute_sts_endpoint_config\u001b[0m\u001b[1;33m(\u001b[0m\u001b[1;33m**\u001b[0m\u001b[0mresolve_endpoint_kwargs\u001b[0m\u001b[1;33m)\u001b[0m\u001b[1;33m\u001b[0m\u001b[1;33m\u001b[0m\u001b[0m\n\u001b[1;32m--> 233\u001b[1;33m         \u001b[1;32mreturn\u001b[0m \u001b[0mself\u001b[0m\u001b[1;33m.\u001b[0m\u001b[0m_resolve_endpoint\u001b[0m\u001b[1;33m(\u001b[0m\u001b[1;33m**\u001b[0m\u001b[0mresolve_endpoint_kwargs\u001b[0m\u001b[1;33m)\u001b[0m\u001b[1;33m\u001b[0m\u001b[1;33m\u001b[0m\u001b[0m\n\u001b[0m\u001b[0;32m    234\u001b[0m \u001b[1;33m\u001b[0m\u001b[0m\n\u001b[0;32m    235\u001b[0m     def _compute_s3_endpoint_config(self, s3_config,\n",
      "\u001b[1;32m~\\AppData\\Roaming\\Python\\Python38\\site-packages\\botocore\\args.py\u001b[0m in \u001b[0;36m_resolve_endpoint\u001b[1;34m(self, service_name, region_name, endpoint_url, is_secure, endpoint_bridge)\u001b[0m\n\u001b[0;32m    317\u001b[0m     def _resolve_endpoint(self, service_name, region_name,\n\u001b[0;32m    318\u001b[0m                           endpoint_url, is_secure, endpoint_bridge):\n\u001b[1;32m--> 319\u001b[1;33m         return endpoint_bridge.resolve(\n\u001b[0m\u001b[0;32m    320\u001b[0m             service_name, region_name, endpoint_url, is_secure)\n\u001b[0;32m    321\u001b[0m \u001b[1;33m\u001b[0m\u001b[0m\n",
      "\u001b[1;32m~\\AppData\\Roaming\\Python\\Python38\\site-packages\\botocore\\client.py\u001b[0m in \u001b[0;36mresolve\u001b[1;34m(self, service_name, region_name, endpoint_url, is_secure)\u001b[0m\n\u001b[0;32m    439\u001b[0m             \u001b[1;34m'use_fips_endpoint'\u001b[0m\u001b[1;33m\u001b[0m\u001b[1;33m\u001b[0m\u001b[0m\n\u001b[0;32m    440\u001b[0m         )\n\u001b[1;32m--> 441\u001b[1;33m         resolved = self.endpoint_resolver.construct_endpoint(\n\u001b[0m\u001b[0;32m    442\u001b[0m             \u001b[0mservice_name\u001b[0m\u001b[1;33m,\u001b[0m \u001b[0mregion_name\u001b[0m\u001b[1;33m,\u001b[0m\u001b[1;33m\u001b[0m\u001b[1;33m\u001b[0m\u001b[0m\n\u001b[0;32m    443\u001b[0m             \u001b[0muse_dualstack_endpoint\u001b[0m\u001b[1;33m=\u001b[0m\u001b[0muse_dualstack_endpoint\u001b[0m\u001b[1;33m,\u001b[0m\u001b[1;33m\u001b[0m\u001b[1;33m\u001b[0m\u001b[0m\n",
      "\u001b[1;32m~\\AppData\\Roaming\\Python\\Python38\\site-packages\\botocore\\regions.py\u001b[0m in \u001b[0;36mconstruct_endpoint\u001b[1;34m(self, service_name, region_name, partition_name, use_dualstack_endpoint, use_fips_endpoint)\u001b[0m\n\u001b[0;32m    179\u001b[0m                     self._UNSUPPORTED_DUALSTACK_PARTITIONS):\n\u001b[0;32m    180\u001b[0m                 \u001b[1;32mcontinue\u001b[0m\u001b[1;33m\u001b[0m\u001b[1;33m\u001b[0m\u001b[0m\n\u001b[1;32m--> 181\u001b[1;33m             result = self._endpoint_for_partition(\n\u001b[0m\u001b[0;32m    182\u001b[0m                 \u001b[0mpartition\u001b[0m\u001b[1;33m,\u001b[0m \u001b[0mservice_name\u001b[0m\u001b[1;33m,\u001b[0m \u001b[0mregion_name\u001b[0m\u001b[1;33m,\u001b[0m \u001b[0muse_dualstack_endpoint\u001b[0m\u001b[1;33m,\u001b[0m\u001b[1;33m\u001b[0m\u001b[1;33m\u001b[0m\u001b[0m\n\u001b[0;32m    183\u001b[0m                 \u001b[0muse_fips_endpoint\u001b[0m\u001b[1;33m\u001b[0m\u001b[1;33m\u001b[0m\u001b[0m\n",
      "\u001b[1;32m~\\AppData\\Roaming\\Python\\Python38\\site-packages\\botocore\\regions.py\u001b[0m in \u001b[0;36m_endpoint_for_partition\u001b[1;34m(self, partition, service_name, region_name, use_dualstack_endpoint, use_fips_endpoint, force_partition)\u001b[0m\n\u001b[0;32m    213\u001b[0m                 \u001b[0mregion_name\u001b[0m \u001b[1;33m=\u001b[0m \u001b[0mservice_data\u001b[0m\u001b[1;33m[\u001b[0m\u001b[1;34m'partitionEndpoint'\u001b[0m\u001b[1;33m]\u001b[0m\u001b[1;33m\u001b[0m\u001b[1;33m\u001b[0m\u001b[0m\n\u001b[0;32m    214\u001b[0m             \u001b[1;32melse\u001b[0m\u001b[1;33m:\u001b[0m\u001b[1;33m\u001b[0m\u001b[1;33m\u001b[0m\u001b[0m\n\u001b[1;32m--> 215\u001b[1;33m                 \u001b[1;32mraise\u001b[0m \u001b[0mNoRegionError\u001b[0m\u001b[1;33m(\u001b[0m\u001b[1;33m)\u001b[0m\u001b[1;33m\u001b[0m\u001b[1;33m\u001b[0m\u001b[0m\n\u001b[0m\u001b[0;32m    216\u001b[0m \u001b[1;33m\u001b[0m\u001b[0m\n\u001b[0;32m    217\u001b[0m         resolve_kwargs = {\n",
      "\u001b[1;31mNoRegionError\u001b[0m: You must specify a region."
     ]
    }
   ],
   "source": [
    "import boto3\n",
    "table_name='Movies'\n",
    "dynamodb_client = boto3.client('dynamodb')\n",
    "item_scarface={\n",
    "    'Title':{'S':'Scarface'},\n",
    "    'Year':{'S':'1983'}\n",
    "}\n",
    "dynamodb.client.put_item(TableName=table_name,Item=item_scarface)\n"
   ]
  },
  {
   "cell_type": "code",
   "execution_count": null,
   "id": "d6fada14",
   "metadata": {},
   "outputs": [],
   "source": []
  },
  {
   "cell_type": "code",
   "execution_count": null,
   "id": "1a31bf8e",
   "metadata": {},
   "outputs": [],
   "source": []
  }
 ],
 "metadata": {
  "kernelspec": {
   "display_name": "Python 3 (ipykernel)",
   "language": "python",
   "name": "python3"
  },
  "language_info": {
   "codemirror_mode": {
    "name": "ipython",
    "version": 3
   },
   "file_extension": ".py",
   "mimetype": "text/x-python",
   "name": "python",
   "nbconvert_exporter": "python",
   "pygments_lexer": "ipython3",
   "version": "3.8.0"
  }
 },
 "nbformat": 4,
 "nbformat_minor": 5
}

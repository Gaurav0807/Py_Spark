{
 "cells": [
  {
   "cell_type": "code",
   "execution_count": 18,
   "id": "a8e1d4af",
   "metadata": {},
   "outputs": [
    {
     "name": "stdout",
     "output_type": "stream",
     "text": [
      "Defaulting to user installation because normal site-packages is not writeable\n",
      "Requirement already satisfied: pyspark in c:\\users\\gaurav rawat\\appdata\\roaming\\python\\python38\\site-packages (3.2.0)\n",
      "Requirement already satisfied: py4j==0.10.9.2 in c:\\users\\gaurav rawat\\appdata\\roaming\\python\\python38\\site-packages (from pyspark) (0.10.9.2)\n"
     ]
    },
    {
     "name": "stderr",
     "output_type": "stream",
     "text": [
      "WARNING: pip is being invoked by an old script wrapper. This will fail in a future version of pip.\n",
      "Please see https://github.com/pypa/pip/issues/5599 for advice on fixing the underlying issue.\n",
      "To avoid this problem you can invoke Python with '-m pip' instead of running pip directly.\n"
     ]
    }
   ],
   "source": [
    "!pip install pyspark"
   ]
  },
  {
   "cell_type": "code",
   "execution_count": 19,
   "id": "cbace2bf",
   "metadata": {},
   "outputs": [],
   "source": [
    "import pyspark"
   ]
  },
  {
   "cell_type": "code",
   "execution_count": 20,
   "id": "415a0702",
   "metadata": {},
   "outputs": [
    {
     "data": {
      "text/html": [
       "<div>\n",
       "<style scoped>\n",
       "    .dataframe tbody tr th:only-of-type {\n",
       "        vertical-align: middle;\n",
       "    }\n",
       "\n",
       "    .dataframe tbody tr th {\n",
       "        vertical-align: top;\n",
       "    }\n",
       "\n",
       "    .dataframe thead th {\n",
       "        text-align: right;\n",
       "    }\n",
       "</style>\n",
       "<table border=\"1\" class=\"dataframe\">\n",
       "  <thead>\n",
       "    <tr style=\"text-align: right;\">\n",
       "      <th></th>\n",
       "      <th>Name</th>\n",
       "      <th>Agre</th>\n",
       "      <th>Experience</th>\n",
       "    </tr>\n",
       "  </thead>\n",
       "  <tbody>\n",
       "    <tr>\n",
       "      <th>0</th>\n",
       "      <td>Gaurav Rawat</td>\n",
       "      <td>22.0</td>\n",
       "      <td>1.0</td>\n",
       "    </tr>\n",
       "    <tr>\n",
       "      <th>1</th>\n",
       "      <td>Deepak</td>\n",
       "      <td>20.0</td>\n",
       "      <td>2.0</td>\n",
       "    </tr>\n",
       "    <tr>\n",
       "      <th>2</th>\n",
       "      <td>Hardik</td>\n",
       "      <td>19.0</td>\n",
       "      <td>1.0</td>\n",
       "    </tr>\n",
       "    <tr>\n",
       "      <th>3</th>\n",
       "      <td>Shivam</td>\n",
       "      <td>21.0</td>\n",
       "      <td>2.0</td>\n",
       "    </tr>\n",
       "    <tr>\n",
       "      <th>4</th>\n",
       "      <td>Ayush</td>\n",
       "      <td>21.0</td>\n",
       "      <td>3.0</td>\n",
       "    </tr>\n",
       "    <tr>\n",
       "      <th>5</th>\n",
       "      <td>NaN</td>\n",
       "      <td>6.0</td>\n",
       "      <td>NaN</td>\n",
       "    </tr>\n",
       "    <tr>\n",
       "      <th>6</th>\n",
       "      <td>NaN</td>\n",
       "      <td>NaN</td>\n",
       "      <td>8.0</td>\n",
       "    </tr>\n",
       "  </tbody>\n",
       "</table>\n",
       "</div>"
      ],
      "text/plain": [
       "           Name  Agre  Experience\n",
       "0  Gaurav Rawat  22.0         1.0\n",
       "1        Deepak  20.0         2.0\n",
       "2        Hardik  19.0         1.0\n",
       "3        Shivam  21.0         2.0\n",
       "4         Ayush  21.0         3.0\n",
       "5           NaN   6.0         NaN\n",
       "6           NaN   NaN         8.0"
      ]
     },
     "execution_count": 20,
     "metadata": {},
     "output_type": "execute_result"
    }
   ],
   "source": [
    "import pandas as pd\n",
    "pd.read_csv('Book1.csv')"
   ]
  },
  {
   "cell_type": "code",
   "execution_count": 39,
   "id": "7cea9b7e",
   "metadata": {},
   "outputs": [],
   "source": [
    "from pyspark.sql import SparkSession,SQLContext"
   ]
  },
  {
   "cell_type": "code",
   "execution_count": 40,
   "id": "67797a6e",
   "metadata": {},
   "outputs": [],
   "source": [
    "spark=SparkSession.builder.appName('Practise').getOrCreate()"
   ]
  },
  {
   "cell_type": "code",
   "execution_count": 41,
   "id": "da385115",
   "metadata": {},
   "outputs": [
    {
     "data": {
      "text/html": [
       "\n",
       "            <div>\n",
       "                <p><b>SparkSession - in-memory</b></p>\n",
       "                \n",
       "        <div>\n",
       "            <p><b>SparkContext</b></p>\n",
       "\n",
       "            <p><a href=\"http://LAPTOP-FPIMQ92V:4040\">Spark UI</a></p>\n",
       "\n",
       "            <dl>\n",
       "              <dt>Version</dt>\n",
       "                <dd><code>v3.2.0</code></dd>\n",
       "              <dt>Master</dt>\n",
       "                <dd><code>local[*]</code></dd>\n",
       "              <dt>AppName</dt>\n",
       "                <dd><code>Practise</code></dd>\n",
       "            </dl>\n",
       "        </div>\n",
       "        \n",
       "            </div>\n",
       "        "
      ],
      "text/plain": [
       "<pyspark.sql.session.SparkSession at 0x1d6b8664fa0>"
      ]
     },
     "execution_count": 41,
     "metadata": {},
     "output_type": "execute_result"
    }
   ],
   "source": [
    "spark"
   ]
  },
  {
   "cell_type": "code",
   "execution_count": 42,
   "id": "5dd295b8",
   "metadata": {},
   "outputs": [],
   "source": [
    "df_pyspark=spark.read.csv('Book1.csv',inferSchema=True,header=True)"
   ]
  },
  {
   "cell_type": "code",
   "execution_count": 47,
   "id": "f943d4a9",
   "metadata": {},
   "outputs": [
    {
     "name": "stdout",
     "output_type": "stream",
     "text": [
      "+------+----+----------+\n",
      "|  Name|Agre|Experience|\n",
      "+------+----+----------+\n",
      "|Deepak|  20|         2|\n",
      "|Shivam|  21|         2|\n",
      "| Ayush|  21|         3|\n",
      "|  null|null|         8|\n",
      "+------+----+----------+\n",
      "\n"
     ]
    }
   ],
   "source": [
    "df_pyspark.createOrReplaceTempView(\"book1\")\n",
    "temp=spark.sql(\"select * from book1 where Experience >=2\")\n",
    "temp.show()"
   ]
  },
  {
   "cell_type": "code",
   "execution_count": 25,
   "id": "6bcf4dbe",
   "metadata": {},
   "outputs": [
    {
     "name": "stdout",
     "output_type": "stream",
     "text": [
      "root\n",
      " |-- Name: string (nullable = true)\n",
      " |-- Agre: integer (nullable = true)\n",
      " |-- Experience: integer (nullable = true)\n",
      "\n"
     ]
    }
   ],
   "source": [
    "#Print the Schema\n",
    "df_pyspark.printSchema()"
   ]
  },
  {
   "cell_type": "code",
   "execution_count": 26,
   "id": "a195abbb",
   "metadata": {},
   "outputs": [
    {
     "data": {
      "text/plain": [
       "['Name', 'Agre', 'Experience']"
      ]
     },
     "execution_count": 26,
     "metadata": {},
     "output_type": "execute_result"
    }
   ],
   "source": [
    "#Print Columns\n",
    "df_pyspark.columns"
   ]
  },
  {
   "cell_type": "code",
   "execution_count": 27,
   "id": "d13d1806",
   "metadata": {},
   "outputs": [
    {
     "data": {
      "text/plain": [
       "[Row(Name='Gaurav Rawat', Agre=22, Experience=1),\n",
       " Row(Name='Deepak', Agre=20, Experience=2),\n",
       " Row(Name='Hardik', Agre=19, Experience=1)]"
      ]
     },
     "execution_count": 27,
     "metadata": {},
     "output_type": "execute_result"
    }
   ],
   "source": [
    "df_pyspark.head(3)"
   ]
  },
  {
   "cell_type": "code",
   "execution_count": 28,
   "id": "cf257f28",
   "metadata": {},
   "outputs": [
    {
     "name": "stdout",
     "output_type": "stream",
     "text": [
      "+------------+----+----------+\n",
      "|        Name|Agre|Experience|\n",
      "+------------+----+----------+\n",
      "|Gaurav Rawat|  22|         1|\n",
      "|      Deepak|  20|         2|\n",
      "|      Hardik|  19|         1|\n",
      "|      Shivam|  21|         2|\n",
      "|       Ayush|  21|         3|\n",
      "|        null|   6|      null|\n",
      "|        null|null|         8|\n",
      "+------------+----+----------+\n",
      "\n"
     ]
    }
   ],
   "source": [
    "df_pyspark.show()"
   ]
  },
  {
   "cell_type": "code",
   "execution_count": 29,
   "id": "f61ddacf",
   "metadata": {},
   "outputs": [
    {
     "name": "stdout",
     "output_type": "stream",
     "text": [
      "+------------+----------+\n",
      "|        Name|Experience|\n",
      "+------------+----------+\n",
      "|Gaurav Rawat|         1|\n",
      "|      Deepak|         2|\n",
      "|      Hardik|         1|\n",
      "|      Shivam|         2|\n",
      "|       Ayush|         3|\n",
      "|        null|      null|\n",
      "|        null|         8|\n",
      "+------------+----------+\n",
      "\n"
     ]
    }
   ],
   "source": [
    "df_pyspark.select(['Name','Experience']).show()"
   ]
  },
  {
   "cell_type": "code",
   "execution_count": 30,
   "id": "60709e78",
   "metadata": {},
   "outputs": [
    {
     "data": {
      "text/plain": [
       "[('Name', 'string'), ('Agre', 'int'), ('Experience', 'int')]"
      ]
     },
     "execution_count": 30,
     "metadata": {},
     "output_type": "execute_result"
    }
   ],
   "source": [
    "df_pyspark.dtypes"
   ]
  },
  {
   "cell_type": "code",
   "execution_count": 31,
   "id": "4721d218",
   "metadata": {},
   "outputs": [
    {
     "name": "stdout",
     "output_type": "stream",
     "text": [
      "+-------+------+------------------+------------------+\n",
      "|summary|  Name|              Agre|        Experience|\n",
      "+-------+------+------------------+------------------+\n",
      "|  count|     5|                 6|                 6|\n",
      "|   mean|  null|18.166666666666668|2.8333333333333335|\n",
      "| stddev|  null| 6.047037842337906|2.6394443859772205|\n",
      "|    min| Ayush|                 6|                 1|\n",
      "|    max|Shivam|                22|                 8|\n",
      "+-------+------+------------------+------------------+\n",
      "\n"
     ]
    }
   ],
   "source": [
    "df_pyspark.describe().show()"
   ]
  },
  {
   "cell_type": "code",
   "execution_count": 32,
   "id": "c1d04ae2",
   "metadata": {},
   "outputs": [
    {
     "name": "stdout",
     "output_type": "stream",
     "text": [
      "+------+----+----------+\n",
      "|  Name|Agre|Experience|\n",
      "+------+----+----------+\n",
      "|Deepak|  20|         2|\n",
      "|Shivam|  21|         2|\n",
      "| Ayush|  21|         3|\n",
      "|  null|null|         8|\n",
      "+------+----+----------+\n",
      "\n"
     ]
    }
   ],
   "source": [
    "df_pyspark.select(['Name','Agre','Experience']).where('Experience>=2').show()"
   ]
  },
  {
   "cell_type": "markdown",
   "id": "f3acf415",
   "metadata": {},
   "source": [
    "# Adding Column in dataFrame"
   ]
  },
  {
   "cell_type": "code",
   "execution_count": 33,
   "id": "d65b997b",
   "metadata": {},
   "outputs": [],
   "source": [
    "df_pyspark=df_pyspark.withColumn('Experience After 2 year',df_pyspark['Experience']+2)\n"
   ]
  },
  {
   "cell_type": "code",
   "execution_count": 34,
   "id": "5063743e",
   "metadata": {},
   "outputs": [
    {
     "name": "stdout",
     "output_type": "stream",
     "text": [
      "+------------+----+----------+-----------------------+\n",
      "|        Name|Agre|Experience|Experience After 2 year|\n",
      "+------------+----+----------+-----------------------+\n",
      "|Gaurav Rawat|  22|         1|                      3|\n",
      "|      Deepak|  20|         2|                      4|\n",
      "|      Hardik|  19|         1|                      3|\n",
      "|      Shivam|  21|         2|                      4|\n",
      "|       Ayush|  21|         3|                      5|\n",
      "|        null|   6|      null|                   null|\n",
      "|        null|null|         8|                     10|\n",
      "+------------+----+----------+-----------------------+\n",
      "\n"
     ]
    }
   ],
   "source": [
    "df_pyspark.show()"
   ]
  },
  {
   "cell_type": "code",
   "execution_count": 35,
   "id": "16c0c133",
   "metadata": {},
   "outputs": [
    {
     "name": "stdout",
     "output_type": "stream",
     "text": [
      "+------------+----+----------+\n",
      "|        Name|Agre|Experience|\n",
      "+------------+----+----------+\n",
      "|Gaurav Rawat|  22|         1|\n",
      "|      Deepak|  20|         2|\n",
      "|      Hardik|  19|         1|\n",
      "|      Shivam|  21|         2|\n",
      "|       Ayush|  21|         3|\n",
      "|        null|   6|      null|\n",
      "|        null|null|         8|\n",
      "+------------+----+----------+\n",
      "\n"
     ]
    }
   ],
   "source": [
    "df_pyspark=df_pyspark.drop('Experience After 2 year').show()"
   ]
  },
  {
   "cell_type": "code",
   "execution_count": null,
   "id": "c9cd44dc",
   "metadata": {},
   "outputs": [],
   "source": []
  }
 ],
 "metadata": {
  "kernelspec": {
   "display_name": "Python 3 (ipykernel)",
   "language": "python",
   "name": "python3"
  },
  "language_info": {
   "codemirror_mode": {
    "name": "ipython",
    "version": 3
   },
   "file_extension": ".py",
   "mimetype": "text/x-python",
   "name": "python",
   "nbconvert_exporter": "python",
   "pygments_lexer": "ipython3",
   "version": "3.8.0"
  }
 },
 "nbformat": 4,
 "nbformat_minor": 5
}

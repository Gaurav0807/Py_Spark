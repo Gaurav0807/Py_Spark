{
 "cells": [
  {
   "cell_type": "code",
   "execution_count": null,
   "id": "bd3582cf",
   "metadata": {},
   "outputs": [],
   "source": [
    "from pyspark import SparkContext\n",
    "def loadBoringWords():\n",
    "    boring_words=set(line.strip() for line in open(\"C:/Users/Gaurav Rawat/Desktop/BDE/boringwords.txt\"))\n",
    "    return boring_words\n",
    "\n",
    "sc=SparkContext(\"local[*]\",\"keyword\")\n",
    "\n",
    "name_set=sc.broadcast(loadBoringWords())\n",
    "initial_rdd=sc.textFile(\"C:/Users/Gaurav Rawat/Desktop/BDE/bigdatacampaigndata.csv\")\n",
    "\n",
    "mapped_input=initial_rdd.map(lambda x:(float(x.split(\",\")[10]),x.split(\",\")[0]))\n",
    "words=mapped_input.flatMapValues(lambda x:x.split(\" \"))\n",
    "final_mapped=words.map(lambda x:(x[1].lower(),x[0]))\n",
    "filtered_rdd=final_mapped.filter(lambda x:x[0] not in name_set)\n",
    "\n",
    "total=filtered_rdd.reduceByKey(lambda x,y:x+y)\n",
    "sorted=total.sortBy(lambda x:x[1],False)\n",
    "\n",
    "result=sorted.take(20)\n",
    "for i in result:\n",
    "    print(result)"
   ]
  }
 ],
 "metadata": {
  "kernelspec": {
   "display_name": "Python 3 (ipykernel)",
   "language": "python",
   "name": "python3"
  },
  "language_info": {
   "codemirror_mode": {
    "name": "ipython",
    "version": 3
   },
   "file_extension": ".py",
   "mimetype": "text/x-python",
   "name": "python",
   "nbconvert_exporter": "python",
   "pygments_lexer": "ipython3",
   "version": "3.8.0"
  }
 },
 "nbformat": 4,
 "nbformat_minor": 5
}

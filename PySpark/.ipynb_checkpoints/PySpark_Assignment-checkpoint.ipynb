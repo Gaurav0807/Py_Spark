{
 "cells": [
  {
   "cell_type": "code",
   "execution_count": 1,
   "id": "9e4c5090",
   "metadata": {},
   "outputs": [
    {
     "name": "stdout",
     "output_type": "stream",
     "text": [
      "Defaulting to user installation because normal site-packages is not writeable\n",
      "Requirement already satisfied: pyspark in c:\\users\\gaurav rawat\\appdata\\roaming\\python\\python38\\site-packages (3.2.0)\n",
      "Requirement already satisfied: py4j==0.10.9.2 in c:\\users\\gaurav rawat\\appdata\\roaming\\python\\python38\\site-packages (from pyspark) (0.10.9.2)\n"
     ]
    },
    {
     "name": "stderr",
     "output_type": "stream",
     "text": [
      "WARNING: pip is being invoked by an old script wrapper. This will fail in a future version of pip.\n",
      "Please see https://github.com/pypa/pip/issues/5599 for advice on fixing the underlying issue.\n",
      "To avoid this problem you can invoke Python with '-m pip' instead of running pip directly.\n"
     ]
    }
   ],
   "source": [
    "!pip install pyspark"
   ]
  },
  {
   "cell_type": "code",
   "execution_count": 96,
   "id": "db998873",
   "metadata": {},
   "outputs": [],
   "source": [
    "import pandas as pd\n",
    "from pyspark.rdd import RDD\n",
    "from pyspark.sql import  SparkSession,DataFrame\n",
    "from pyspark.sql.types import StructType,StructField, StringType,IntegerType"
   ]
  },
  {
   "cell_type": "code",
   "execution_count": 97,
   "id": "688c24c2",
   "metadata": {},
   "outputs": [],
   "source": [
    "spark = SparkSession.builder.appName(\"Gaurav\").getOrCreate()"
   ]
  },
  {
   "cell_type": "code",
   "execution_count": 98,
   "id": "f439f17f",
   "metadata": {},
   "outputs": [],
   "source": [
    "rdd1=spark.read.csv('titanic.csv',inferSchema=True,header=True)"
   ]
  },
  {
   "cell_type": "code",
   "execution_count": 99,
   "id": "05cefb9d",
   "metadata": {},
   "outputs": [
    {
     "name": "stdout",
     "output_type": "stream",
     "text": [
      "+-----------+--------+------+--------------------+------+----+-----+-----+----------------+-------+-----+--------+\n",
      "|PassengerId|Survived|Pclass|                Name|   Sex| Age|SibSp|Parch|          Ticket|   Fare|Cabin|Embarked|\n",
      "+-----------+--------+------+--------------------+------+----+-----+-----+----------------+-------+-----+--------+\n",
      "|          1|       0|     3|Braund, Mr. Owen ...|  male|22.0|    1|    0|       A/5 21171|   7.25| null|       S|\n",
      "|          2|       1|     1|Cumings, Mrs. Joh...|female|38.0|    1|    0|        PC 17599|71.2833|  C85|       C|\n",
      "|          3|       1|     3|Heikkinen, Miss. ...|female|26.0|    0|    0|STON/O2. 3101282|  7.925| null|       S|\n",
      "|          4|       1|     1|Futrelle, Mrs. Ja...|female|35.0|    1|    0|          113803|   53.1| C123|       S|\n",
      "|          5|       0|     3|Allen, Mr. Willia...|  male|35.0|    0|    0|          373450|   8.05| null|       S|\n",
      "|          6|       0|     3|    Moran, Mr. James|  male|null|    0|    0|          330877| 8.4583| null|       Q|\n",
      "|          7|       0|     1|McCarthy, Mr. Tim...|  male|54.0|    0|    0|           17463|51.8625|  E46|       S|\n",
      "|          8|       0|     3|Palsson, Master. ...|  male| 2.0|    3|    1|          349909| 21.075| null|       S|\n",
      "|          9|       1|     3|Johnson, Mrs. Osc...|female|27.0|    0|    2|          347742|11.1333| null|       S|\n",
      "|         10|       1|     2|Nasser, Mrs. Nich...|female|14.0|    1|    0|          237736|30.0708| null|       C|\n",
      "|         11|       1|     3|Sandstrom, Miss. ...|female| 4.0|    1|    1|         PP 9549|   16.7|   G6|       S|\n",
      "|         12|       1|     1|Bonnell, Miss. El...|female|58.0|    0|    0|          113783|  26.55| C103|       S|\n",
      "|         13|       0|     3|Saundercock, Mr. ...|  male|20.0|    0|    0|       A/5. 2151|   8.05| null|       S|\n",
      "|         14|       0|     3|Andersson, Mr. An...|  male|39.0|    1|    5|          347082| 31.275| null|       S|\n",
      "|         15|       0|     3|Vestrom, Miss. Hu...|female|14.0|    0|    0|          350406| 7.8542| null|       S|\n",
      "|         16|       1|     2|Hewlett, Mrs. (Ma...|female|55.0|    0|    0|          248706|   16.0| null|       S|\n",
      "|         17|       0|     3|Rice, Master. Eugene|  male| 2.0|    4|    1|          382652| 29.125| null|       Q|\n",
      "|         18|       1|     2|Williams, Mr. Cha...|  male|null|    0|    0|          244373|   13.0| null|       S|\n",
      "|         19|       0|     3|Vander Planke, Mr...|female|31.0|    1|    0|          345763|   18.0| null|       S|\n",
      "|         20|       1|     3|Masselmani, Mrs. ...|female|null|    0|    0|            2649|  7.225| null|       C|\n",
      "+-----------+--------+------+--------------------+------+----+-----+-----+----------------+-------+-----+--------+\n",
      "only showing top 20 rows\n",
      "\n"
     ]
    }
   ],
   "source": [
    "rdd1.show()"
   ]
  },
  {
   "cell_type": "markdown",
   "id": "085030f6",
   "metadata": {},
   "source": [
    "# Print Schema\n"
   ]
  },
  {
   "cell_type": "code",
   "execution_count": 100,
   "id": "bc93c7c9",
   "metadata": {},
   "outputs": [
    {
     "name": "stdout",
     "output_type": "stream",
     "text": [
      "root\n",
      " |-- PassengerId: integer (nullable = true)\n",
      " |-- Survived: integer (nullable = true)\n",
      " |-- Pclass: integer (nullable = true)\n",
      " |-- Name: string (nullable = true)\n",
      " |-- Sex: string (nullable = true)\n",
      " |-- Age: double (nullable = true)\n",
      " |-- SibSp: integer (nullable = true)\n",
      " |-- Parch: integer (nullable = true)\n",
      " |-- Ticket: string (nullable = true)\n",
      " |-- Fare: double (nullable = true)\n",
      " |-- Cabin: string (nullable = true)\n",
      " |-- Embarked: string (nullable = true)\n",
      "\n"
     ]
    }
   ],
   "source": [
    "rdd1.printSchema()"
   ]
  },
  {
   "cell_type": "code",
   "execution_count": 101,
   "id": "19a2dee9",
   "metadata": {},
   "outputs": [
    {
     "data": {
      "text/plain": [
       "891"
      ]
     },
     "execution_count": 101,
     "metadata": {},
     "output_type": "execute_result"
    }
   ],
   "source": [
    "rdd1.count() #No. of rows"
   ]
  },
  {
   "cell_type": "code",
   "execution_count": 102,
   "id": "ae71b572",
   "metadata": {},
   "outputs": [
    {
     "data": {
      "text/plain": [
       "12"
      ]
     },
     "execution_count": 102,
     "metadata": {},
     "output_type": "execute_result"
    }
   ],
   "source": [
    "len(rdd1.columns) #No. of columns"
   ]
  },
  {
   "cell_type": "code",
   "execution_count": 103,
   "id": "b401805e",
   "metadata": {},
   "outputs": [],
   "source": [
    "d1=pd.read_csv('titanic.csv')\n",
    "df1=pd.DataFrame({\n",
    "    'PassengerID':d1['PassengerId'],\n",
    "    'Name':d1['Name'],\n",
    "    'Age':d1['Age'],\n",
    "    'sex':d1['Sex']\n",
    "})\n",
    "df2=spark.sparkContext.parallelize(df1)\n",
    "deptSchema = StructType([       \n",
    "    StructField('PassengerId', StringType(), True),\n",
    "    StructField('Name', StringType(), True),\n",
    "    StructField('Age', IntegerType(), True),\n",
    "    StructField('Sex', StringType(), True)\n",
    "])\n",
    "rdd2=spark.createDataFrame(df2,schema=deptSchema)"
   ]
  },
  {
   "cell_type": "code",
   "execution_count": 104,
   "id": "9c026eb7",
   "metadata": {},
   "outputs": [
    {
     "name": "stdout",
     "output_type": "stream",
     "text": [
      "root\n",
      " |-- PassengerId: string (nullable = true)\n",
      " |-- Name: string (nullable = true)\n",
      " |-- Age: integer (nullable = true)\n",
      " |-- Sex: string (nullable = true)\n",
      "\n"
     ]
    }
   ],
   "source": [
    "rdd2.printSchema()"
   ]
  },
  {
   "cell_type": "code",
   "execution_count": 112,
   "id": "9c8564e3",
   "metadata": {},
   "outputs": [],
   "source": [
    "#rdd2.show() Error"
   ]
  },
  {
   "cell_type": "code",
   "execution_count": 121,
   "id": "35cfa47d",
   "metadata": {},
   "outputs": [
    {
     "name": "stdout",
     "output_type": "stream",
     "text": [
      "Count 891\n",
      "+-----------+--------+------+--------------------+------+----+-----+-----+------------------+-------+-------+--------+\n",
      "|PassengerId|Survived|Pclass|                Name|   Sex| Age|SibSp|Parch|            Ticket|   Fare|  Cabin|Embarked|\n",
      "+-----------+--------+------+--------------------+------+----+-----+-----+------------------+-------+-------+--------+\n",
      "|        612|       0|     3|Jardin, Mr. Jose ...|  male|null|    0|    0|SOTON/O.Q. 3101305|   7.05|   null|       S|\n",
      "|        666|       0|     2|  Hickman, Mr. Lewis|  male|32.0|    2|    0|      S.O.C. 14879|   73.5|   null|       S|\n",
      "|        689|       0|     3|Fischer, Mr. Eber...|  male|18.0|    0|    0|            350036| 7.7958|   null|       S|\n",
      "|        846|       0|     3| Abbing, Mr. Anthony|  male|42.0|    0|    0|         C.A. 5547|   7.55|   null|       S|\n",
      "|         59|       1|     2|West, Miss. Const...|female| 5.0|    1|    2|        C.A. 34651|  27.75|   null|       S|\n",
      "|         99|       1|     2|Doling, Mrs. John...|female|34.0|    0|    1|            231919|   23.0|   null|       S|\n",
      "|        499|       0|     1|Allison, Mrs. Hud...|female|25.0|    1|    2|            113781| 151.55|C22 C26|       S|\n",
      "|        686|       0|     2|Laroche, Mr. Jose...|  male|25.0|    1|    2|     SC/Paris 2123|41.5792|   null|       C|\n",
      "|         11|       1|     3|Sandstrom, Miss. ...|female| 4.0|    1|    1|           PP 9549|   16.7|     G6|       S|\n",
      "|         71|       0|     2|Jenkin, Mr. Steph...|  male|32.0|    0|    0|        C.A. 33111|   10.5|   null|       S|\n",
      "|        266|       0|     2|   Reeves, Mr. David|  male|36.0|    0|    0|        C.A. 17248|   10.5|   null|       S|\n",
      "|        281|       0|     3|    Duane, Mr. Frank|  male|65.0|    0|    0|            336439|   7.75|   null|       Q|\n",
      "|        472|       0|     3|     Cacic, Mr. Luka|  male|38.0|    0|    0|            315089| 8.6625|   null|       S|\n",
      "|        615|       0|     3|Brocklebank, Mr. ...|  male|35.0|    0|    0|            364512|   8.05|   null|       S|\n",
      "|        701|       1|     1|Astor, Mrs. John ...|female|18.0|    1|    0|          PC 17757|227.525|C62 C64|       C|\n",
      "|        706|       0|     2|\"Morley, Mr. Henr...|  male|39.0|    0|    0|            250655|   26.0|   null|       S|\n",
      "|        158|       0|     3|     Corn, Mr. Harry|  male|30.0|    0|    0|   SOTON/OQ 392090|   8.05|   null|       S|\n",
      "|        189|       0|     3|    Bourke, Mr. John|  male|40.0|    1|    1|            364849|   15.5|   null|       Q|\n",
      "|        345|       0|     2|Fox, Mr. Stanley ...|  male|36.0|    0|    0|            229236|   13.0|   null|       S|\n",
      "|        398|       0|     2|McKane, Mr. Peter...|  male|46.0|    0|    0|             28403|   26.0|   null|       S|\n",
      "+-----------+--------+------+--------------------+------+----+-----+-----+------------------+-------+-------+--------+\n",
      "only showing top 20 rows\n",
      "\n"
     ]
    }
   ],
   "source": [
    "print(\"Count \"+str(rdd1.count()))\n",
    "rdd3=rdd1.dropDuplicates()\n",
    "rdd3.show()"
   ]
  },
  {
   "cell_type": "code",
   "execution_count": null,
   "id": "11df97a4",
   "metadata": {},
   "outputs": [],
   "source": []
  }
 ],
 "metadata": {
  "kernelspec": {
   "display_name": "Python 3 (ipykernel)",
   "language": "python",
   "name": "python3"
  },
  "language_info": {
   "codemirror_mode": {
    "name": "ipython",
    "version": 3
   },
   "file_extension": ".py",
   "mimetype": "text/x-python",
   "name": "python",
   "nbconvert_exporter": "python",
   "pygments_lexer": "ipython3",
   "version": "3.8.0"
  }
 },
 "nbformat": 4,
 "nbformat_minor": 5
}

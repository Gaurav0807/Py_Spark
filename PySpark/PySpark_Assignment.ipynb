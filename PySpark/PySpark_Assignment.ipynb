{
 "cells": [
  {
   "cell_type": "code",
   "execution_count": 1,
   "id": "63920222",
   "metadata": {},
   "outputs": [
    {
     "name": "stdout",
     "output_type": "stream",
     "text": [
      "Defaulting to user installation because normal site-packages is not writeable"
     ]
    },
    {
     "name": "stderr",
     "output_type": "stream",
     "text": [
      "WARNING: pip is being invoked by an old script wrapper. This will fail in a future version of pip.\n",
      "Please see https://github.com/pypa/pip/issues/5599 for advice on fixing the underlying issue.\n",
      "To avoid this problem you can invoke Python with '-m pip' instead of running pip directly.\n"
     ]
    },
    {
     "name": "stdout",
     "output_type": "stream",
     "text": [
      "\n",
      "Requirement already satisfied: pyspark in c:\\users\\gaurav rawat\\appdata\\roaming\\python\\python38\\site-packages (3.2.0)\n",
      "Requirement already satisfied: py4j==0.10.9.2 in c:\\users\\gaurav rawat\\appdata\\roaming\\python\\python38\\site-packages (from pyspark) (0.10.9.2)\n"
     ]
    }
   ],
   "source": [
    "!pip install pyspark"
   ]
  },
  {
   "cell_type": "code",
   "execution_count": 143,
   "id": "4f447372",
   "metadata": {},
   "outputs": [],
   "source": [
    "import pandas as pd\n",
    "from pyspark.rdd import RDD\n",
    "from pyspark.sql import  SparkSession,DataFrame\n",
    "from pyspark.sql.types import StructType,StructField, StringType,IntegerType\n",
    "from pyspark.sql.functions import col,split,regexp_replace,when,length\n"
   ]
  },
  {
   "cell_type": "code",
   "execution_count": 144,
   "id": "fcc52f1f",
   "metadata": {},
   "outputs": [],
   "source": [
    "spark = SparkSession.builder.appName(\"Gaurav\").getOrCreate()"
   ]
  },
  {
   "cell_type": "code",
   "execution_count": 145,
   "id": "6cf75c43",
   "metadata": {},
   "outputs": [],
   "source": [
    "rdd1=spark.read.csv('titanic.csv',inferSchema=True,header=True)"
   ]
  },
  {
   "cell_type": "code",
   "execution_count": 146,
   "id": "805845be",
   "metadata": {},
   "outputs": [
    {
     "name": "stdout",
     "output_type": "stream",
     "text": [
      "+-----------+--------+------+--------------------+------+----+-----+-----+----------------+-------+-----+--------+\n",
      "|PassengerId|Survived|Pclass|                Name|   Sex| Age|SibSp|Parch|          Ticket|   Fare|Cabin|Embarked|\n",
      "+-----------+--------+------+--------------------+------+----+-----+-----+----------------+-------+-----+--------+\n",
      "|          1|       0|     3|Braund, Mr. Owen ...|  male|22.0|    1|    0|       A/5 21171|   7.25| null|       S|\n",
      "|          2|       1|     1|Cumings, Mrs. Joh...|female|38.0|    1|    0|        PC 17599|71.2833|  C85|       C|\n",
      "|          3|       1|     3|Heikkinen, Miss. ...|female|26.0|    0|    0|STON/O2. 3101282|  7.925| null|       S|\n",
      "|          4|       1|     1|Futrelle, Mrs. Ja...|female|35.0|    1|    0|          113803|   53.1| C123|       S|\n",
      "|          5|       0|     3|Allen, Mr. Willia...|  male|35.0|    0|    0|          373450|   8.05| null|       S|\n",
      "|          6|       0|     3|    Moran, Mr. James|  male|null|    0|    0|          330877| 8.4583| null|       Q|\n",
      "|          7|       0|     1|McCarthy, Mr. Tim...|  male|54.0|    0|    0|           17463|51.8625|  E46|       S|\n",
      "|          8|       0|     3|Palsson, Master. ...|  male| 2.0|    3|    1|          349909| 21.075| null|       S|\n",
      "|          9|       1|     3|Johnson, Mrs. Osc...|female|27.0|    0|    2|          347742|11.1333| null|       S|\n",
      "|         10|       1|     2|Nasser, Mrs. Nich...|female|14.0|    1|    0|          237736|30.0708| null|       C|\n",
      "|         11|       1|     3|Sandstrom, Miss. ...|female| 4.0|    1|    1|         PP 9549|   16.7|   G6|       S|\n",
      "|         12|       1|     1|Bonnell, Miss. El...|female|58.0|    0|    0|          113783|  26.55| C103|       S|\n",
      "|         13|       0|     3|Saundercock, Mr. ...|  male|20.0|    0|    0|       A/5. 2151|   8.05| null|       S|\n",
      "|         14|       0|     3|Andersson, Mr. An...|  male|39.0|    1|    5|          347082| 31.275| null|       S|\n",
      "|         15|       0|     3|Vestrom, Miss. Hu...|female|14.0|    0|    0|          350406| 7.8542| null|       S|\n",
      "|         16|       1|     2|Hewlett, Mrs. (Ma...|female|55.0|    0|    0|          248706|   16.0| null|       S|\n",
      "|         17|       0|     3|Rice, Master. Eugene|  male| 2.0|    4|    1|          382652| 29.125| null|       Q|\n",
      "|         18|       1|     2|Williams, Mr. Cha...|  male|null|    0|    0|          244373|   13.0| null|       S|\n",
      "|         19|       0|     3|Vander Planke, Mr...|female|31.0|    1|    0|          345763|   18.0| null|       S|\n",
      "|         20|       1|     3|Masselmani, Mrs. ...|female|null|    0|    0|            2649|  7.225| null|       C|\n",
      "+-----------+--------+------+--------------------+------+----+-----+-----+----------------+-------+-----+--------+\n",
      "only showing top 20 rows\n",
      "\n"
     ]
    }
   ],
   "source": [
    "rdd1.show()"
   ]
  },
  {
   "cell_type": "markdown",
   "id": "1dc4f81d",
   "metadata": {},
   "source": [
    "# Print Schema\n"
   ]
  },
  {
   "cell_type": "code",
   "execution_count": 147,
   "id": "19b29145",
   "metadata": {},
   "outputs": [
    {
     "name": "stdout",
     "output_type": "stream",
     "text": [
      "root\n",
      " |-- PassengerId: integer (nullable = true)\n",
      " |-- Survived: integer (nullable = true)\n",
      " |-- Pclass: integer (nullable = true)\n",
      " |-- Name: string (nullable = true)\n",
      " |-- Sex: string (nullable = true)\n",
      " |-- Age: double (nullable = true)\n",
      " |-- SibSp: integer (nullable = true)\n",
      " |-- Parch: integer (nullable = true)\n",
      " |-- Ticket: string (nullable = true)\n",
      " |-- Fare: double (nullable = true)\n",
      " |-- Cabin: string (nullable = true)\n",
      " |-- Embarked: string (nullable = true)\n",
      "\n"
     ]
    }
   ],
   "source": [
    "rdd1.printSchema()"
   ]
  },
  {
   "cell_type": "code",
   "execution_count": 148,
   "id": "9a980373",
   "metadata": {},
   "outputs": [
    {
     "data": {
      "text/plain": [
       "891"
      ]
     },
     "execution_count": 148,
     "metadata": {},
     "output_type": "execute_result"
    }
   ],
   "source": [
    "rdd1.count() #No. of rows"
   ]
  },
  {
   "cell_type": "code",
   "execution_count": 149,
   "id": "61941edf",
   "metadata": {},
   "outputs": [
    {
     "data": {
      "text/plain": [
       "12"
      ]
     },
     "execution_count": 149,
     "metadata": {},
     "output_type": "execute_result"
    }
   ],
   "source": [
    "len(rdd1.columns) #No. of columns"
   ]
  },
  {
   "cell_type": "markdown",
   "id": "5d53fbfe",
   "metadata": {},
   "source": [
    "# Create a new dataframe containing only personnel info of Passenger(PassengerId, Name, Age, Sex)"
   ]
  },
  {
   "cell_type": "code",
   "execution_count": 150,
   "id": "6291e6bc",
   "metadata": {},
   "outputs": [],
   "source": [
    "rdd2=rdd1.select('PassengerId','Name','Age','Sex')"
   ]
  },
  {
   "cell_type": "code",
   "execution_count": 151,
   "id": "fb6348b2",
   "metadata": {},
   "outputs": [
    {
     "name": "stdout",
     "output_type": "stream",
     "text": [
      "root\n",
      " |-- PassengerId: integer (nullable = true)\n",
      " |-- Name: string (nullable = true)\n",
      " |-- Age: double (nullable = true)\n",
      " |-- Sex: string (nullable = true)\n",
      "\n"
     ]
    }
   ],
   "source": [
    "rdd2.printSchema()"
   ]
  },
  {
   "cell_type": "code",
   "execution_count": 152,
   "id": "9a1706a7",
   "metadata": {},
   "outputs": [
    {
     "name": "stdout",
     "output_type": "stream",
     "text": [
      "+-----------+--------------------+----+------+\n",
      "|PassengerId|                Name| Age|   Sex|\n",
      "+-----------+--------------------+----+------+\n",
      "|          1|Braund, Mr. Owen ...|22.0|  male|\n",
      "|          2|Cumings, Mrs. Joh...|38.0|female|\n",
      "|          3|Heikkinen, Miss. ...|26.0|female|\n",
      "|          4|Futrelle, Mrs. Ja...|35.0|female|\n",
      "|          5|Allen, Mr. Willia...|35.0|  male|\n",
      "|          6|    Moran, Mr. James|null|  male|\n",
      "|          7|McCarthy, Mr. Tim...|54.0|  male|\n",
      "|          8|Palsson, Master. ...| 2.0|  male|\n",
      "|          9|Johnson, Mrs. Osc...|27.0|female|\n",
      "|         10|Nasser, Mrs. Nich...|14.0|female|\n",
      "|         11|Sandstrom, Miss. ...| 4.0|female|\n",
      "|         12|Bonnell, Miss. El...|58.0|female|\n",
      "|         13|Saundercock, Mr. ...|20.0|  male|\n",
      "|         14|Andersson, Mr. An...|39.0|  male|\n",
      "|         15|Vestrom, Miss. Hu...|14.0|female|\n",
      "|         16|Hewlett, Mrs. (Ma...|55.0|female|\n",
      "|         17|Rice, Master. Eugene| 2.0|  male|\n",
      "|         18|Williams, Mr. Cha...|null|  male|\n",
      "|         19|Vander Planke, Mr...|31.0|female|\n",
      "|         20|Masselmani, Mrs. ...|null|female|\n",
      "+-----------+--------------------+----+------+\n",
      "only showing top 20 rows\n",
      "\n"
     ]
    }
   ],
   "source": [
    "rdd2.show()"
   ]
  },
  {
   "cell_type": "markdown",
   "id": "86336611",
   "metadata": {},
   "source": [
    "# Drop_Duplicate"
   ]
  },
  {
   "cell_type": "code",
   "execution_count": 153,
   "id": "73b3c624",
   "metadata": {},
   "outputs": [
    {
     "name": "stdout",
     "output_type": "stream",
     "text": [
      "Count 891\n",
      "+-----------+--------+------+--------------------+------+----+-----+-----+------------------+-------+-------+--------+\n",
      "|PassengerId|Survived|Pclass|                Name|   Sex| Age|SibSp|Parch|            Ticket|   Fare|  Cabin|Embarked|\n",
      "+-----------+--------+------+--------------------+------+----+-----+-----+------------------+-------+-------+--------+\n",
      "|        612|       0|     3|Jardin, Mr. Jose ...|  male|null|    0|    0|SOTON/O.Q. 3101305|   7.05|   null|       S|\n",
      "|        666|       0|     2|  Hickman, Mr. Lewis|  male|32.0|    2|    0|      S.O.C. 14879|   73.5|   null|       S|\n",
      "|        689|       0|     3|Fischer, Mr. Eber...|  male|18.0|    0|    0|            350036| 7.7958|   null|       S|\n",
      "|        846|       0|     3| Abbing, Mr. Anthony|  male|42.0|    0|    0|         C.A. 5547|   7.55|   null|       S|\n",
      "|         59|       1|     2|West, Miss. Const...|female| 5.0|    1|    2|        C.A. 34651|  27.75|   null|       S|\n",
      "|         99|       1|     2|Doling, Mrs. John...|female|34.0|    0|    1|            231919|   23.0|   null|       S|\n",
      "|        499|       0|     1|Allison, Mrs. Hud...|female|25.0|    1|    2|            113781| 151.55|C22 C26|       S|\n",
      "|        686|       0|     2|Laroche, Mr. Jose...|  male|25.0|    1|    2|     SC/Paris 2123|41.5792|   null|       C|\n",
      "|         11|       1|     3|Sandstrom, Miss. ...|female| 4.0|    1|    1|           PP 9549|   16.7|     G6|       S|\n",
      "|         71|       0|     2|Jenkin, Mr. Steph...|  male|32.0|    0|    0|        C.A. 33111|   10.5|   null|       S|\n",
      "|        266|       0|     2|   Reeves, Mr. David|  male|36.0|    0|    0|        C.A. 17248|   10.5|   null|       S|\n",
      "|        281|       0|     3|    Duane, Mr. Frank|  male|65.0|    0|    0|            336439|   7.75|   null|       Q|\n",
      "|        472|       0|     3|     Cacic, Mr. Luka|  male|38.0|    0|    0|            315089| 8.6625|   null|       S|\n",
      "|        615|       0|     3|Brocklebank, Mr. ...|  male|35.0|    0|    0|            364512|   8.05|   null|       S|\n",
      "|        701|       1|     1|Astor, Mrs. John ...|female|18.0|    1|    0|          PC 17757|227.525|C62 C64|       C|\n",
      "|        706|       0|     2|\"Morley, Mr. Henr...|  male|39.0|    0|    0|            250655|   26.0|   null|       S|\n",
      "|        158|       0|     3|     Corn, Mr. Harry|  male|30.0|    0|    0|   SOTON/OQ 392090|   8.05|   null|       S|\n",
      "|        189|       0|     3|    Bourke, Mr. John|  male|40.0|    1|    1|            364849|   15.5|   null|       Q|\n",
      "|        345|       0|     2|Fox, Mr. Stanley ...|  male|36.0|    0|    0|            229236|   13.0|   null|       S|\n",
      "|        398|       0|     2|McKane, Mr. Peter...|  male|46.0|    0|    0|             28403|   26.0|   null|       S|\n",
      "+-----------+--------+------+--------------------+------+----+-----+-----+------------------+-------+-------+--------+\n",
      "only showing top 20 rows\n",
      "\n"
     ]
    }
   ],
   "source": [
    "print(\"Count \"+str(rdd1.count()))\n",
    "rdd3=rdd1.dropDuplicates()\n",
    "rdd3.show()"
   ]
  },
  {
   "cell_type": "markdown",
   "id": "5521a816",
   "metadata": {},
   "source": [
    "# dropping all records that have atleast one null/Nan values from the original dataset"
   ]
  },
  {
   "cell_type": "code",
   "execution_count": 154,
   "id": "b1333a4c",
   "metadata": {},
   "outputs": [
    {
     "name": "stdout",
     "output_type": "stream",
     "text": [
      "+-----------+--------+------+--------------------+------+----+-----+-----+--------+--------+-----------+--------+\n",
      "|PassengerId|Survived|Pclass|                Name|   Sex| Age|SibSp|Parch|  Ticket|    Fare|      Cabin|Embarked|\n",
      "+-----------+--------+------+--------------------+------+----+-----+-----+--------+--------+-----------+--------+\n",
      "|        499|       0|     1|Allison, Mrs. Hud...|female|25.0|    1|    2|  113781|  151.55|    C22 C26|       S|\n",
      "|         11|       1|     3|Sandstrom, Miss. ...|female| 4.0|    1|    1| PP 9549|    16.7|         G6|       S|\n",
      "|        701|       1|     1|Astor, Mrs. John ...|female|18.0|    1|    0|PC 17757| 227.525|    C62 C64|       C|\n",
      "|         55|       0|     1|Ostby, Mr. Engelh...|  male|65.0|    0|    1|  113509| 61.9792|        B30|       C|\n",
      "|        332|       0|     1| Partner, Mr. Austen|  male|45.5|    0|    0|  113043|    28.5|       C124|       S|\n",
      "|        646|       1|     1|Harper, Mr. Henry...|  male|48.0|    1|    0|PC 17572| 76.7292|        D33|       C|\n",
      "|        152|       1|     1|Pears, Mrs. Thoma...|female|22.0|    1|    0|  113776|    66.6|         C2|       S|\n",
      "|        868|       0|     1|Roebling, Mr. Was...|  male|31.0|    0|    0|PC 17590| 50.4958|        A24|       S|\n",
      "|        216|       1|     1|Newell, Miss. Mad...|female|31.0|    1|    0|   35273| 113.275|        D36|       C|\n",
      "|        708|       1|     1|Calderhead, Mr. E...|  male|42.0|    0|    0|PC 17476| 26.2875|        E24|       S|\n",
      "|        680|       1|     1|Cardeza, Mr. Thom...|  male|36.0|    0|    1|PC 17755|512.3292|B51 B53 B55|       C|\n",
      "|        760|       1|     1|Rothes, the Count...|female|33.0|    0|    0|  110152|    86.5|        B77|       S|\n",
      "|         76|       0|     3|Moen, Mr. Sigurd ...|  male|25.0|    0|    0|  348123|    7.65|      F G73|       S|\n",
      "|         22|       1|     2|Beesley, Mr. Lawr...|  male|34.0|    0|    0|  248698|    13.0|        D56|       S|\n",
      "|          4|       1|     1|Futrelle, Mrs. Ja...|female|35.0|    1|    0|  113803|    53.1|       C123|       S|\n",
      "|         12|       1|     1|Bonnell, Miss. El...|female|58.0|    0|    0|  113783|   26.55|       C103|       S|\n",
      "|        337|       0|     1|Pears, Mr. Thomas...|  male|29.0|    1|    0|  113776|    66.6|         C2|       S|\n",
      "|        439|       0|     1|   Fortune, Mr. Mark|  male|64.0|    1|    4|   19950|   263.0|C23 C25 C27|       S|\n",
      "|        521|       1|     1|Perreault, Miss. ...|female|30.0|    0|    0|   12749|    93.5|        B73|       S|\n",
      "|        488|       0|     1|Kent, Mr. Edward ...|  male|58.0|    0|    0|   11771|    29.7|        B37|       C|\n",
      "+-----------+--------+------+--------------------+------+----+-----+-----+--------+--------+-----------+--------+\n",
      "only showing top 20 rows\n",
      "\n"
     ]
    }
   ],
   "source": [
    "rdd3.na.drop().show(20)"
   ]
  },
  {
   "cell_type": "markdown",
   "id": "e9ae32da",
   "metadata": {},
   "source": [
    "# dropping columns Ticket and Cabin from the original dataset"
   ]
  },
  {
   "cell_type": "code",
   "execution_count": 155,
   "id": "07669ca8",
   "metadata": {},
   "outputs": [],
   "source": [
    "rdd4=rdd3.drop(\"Ticket\",\"Cabin\")"
   ]
  },
  {
   "cell_type": "code",
   "execution_count": 156,
   "id": "5c7958df",
   "metadata": {},
   "outputs": [
    {
     "name": "stdout",
     "output_type": "stream",
     "text": [
      "root\n",
      " |-- PassengerId: integer (nullable = true)\n",
      " |-- Survived: integer (nullable = true)\n",
      " |-- Pclass: integer (nullable = true)\n",
      " |-- Name: string (nullable = true)\n",
      " |-- Sex: string (nullable = true)\n",
      " |-- Age: double (nullable = true)\n",
      " |-- SibSp: integer (nullable = true)\n",
      " |-- Parch: integer (nullable = true)\n",
      " |-- Fare: double (nullable = true)\n",
      " |-- Embarked: string (nullable = true)\n",
      "\n"
     ]
    }
   ],
   "source": [
    "rdd4.printSchema()"
   ]
  },
  {
   "cell_type": "markdown",
   "id": "e00e080a",
   "metadata": {},
   "source": [
    "# Sort the original dataframe on the basis of Fare in descending order and store it into a new dataframe"
   ]
  },
  {
   "cell_type": "code",
   "execution_count": 157,
   "id": "17c36201",
   "metadata": {},
   "outputs": [
    {
     "name": "stdout",
     "output_type": "stream",
     "text": [
      "+-----------+--------+------+--------------------+------+----+-----+-----+--------+--------+\n",
      "|PassengerId|Survived|Pclass|                Name|   Sex| Age|SibSp|Parch|    Fare|Embarked|\n",
      "+-----------+--------+------+--------------------+------+----+-----+-----+--------+--------+\n",
      "|        738|       1|     1|Lesurer, Mr. Gust...|  male|35.0|    0|    0|512.3292|       C|\n",
      "|        259|       1|     1|    Ward, Miss. Anna|female|35.0|    0|    0|512.3292|       C|\n",
      "|        680|       1|     1|Cardeza, Mr. Thom...|  male|36.0|    0|    1|512.3292|       C|\n",
      "|        342|       1|     1|Fortune, Miss. Al...|female|24.0|    3|    2|   263.0|       S|\n",
      "|         28|       0|     1|Fortune, Mr. Char...|  male|19.0|    3|    2|   263.0|       S|\n",
      "|        439|       0|     1|   Fortune, Mr. Mark|  male|64.0|    1|    4|   263.0|       S|\n",
      "|         89|       1|     1|Fortune, Miss. Ma...|female|23.0|    3|    2|   263.0|       S|\n",
      "|        312|       1|     1|Ryerson, Miss. Em...|female|18.0|    2|    2| 262.375|       C|\n",
      "|        743|       1|     1|\"Ryerson, Miss. S...|female|21.0|    2|    2| 262.375|       C|\n",
      "|        119|       0|     1|Baxter, Mr. Quigg...|  male|24.0|    0|    1|247.5208|       C|\n",
      "|        300|       1|     1|Baxter, Mrs. Jame...|female|50.0|    0|    1|247.5208|       C|\n",
      "|        381|       1|     1|Bidois, Miss. Ros...|female|42.0|    0|    0| 227.525|       C|\n",
      "|        717|       1|     1|Endres, Miss. Car...|female|38.0|    0|    0| 227.525|       C|\n",
      "|        558|       0|     1| Robbins, Mr. Victor|  male|null|    0|    0| 227.525|       C|\n",
      "|        701|       1|     1|Astor, Mrs. John ...|female|18.0|    1|    0| 227.525|       C|\n",
      "|        528|       0|     1|  Farthing, Mr. John|  male|null|    0|    0|221.7792|       S|\n",
      "|        378|       0|     1|Widener, Mr. Harr...|  male|27.0|    0|    2|   211.5|       C|\n",
      "|        690|       1|     1|Madill, Miss. Geo...|female|15.0|    0|    1|211.3375|       S|\n",
      "|        731|       1|     1|Allen, Miss. Elis...|female|29.0|    0|    0|211.3375|       S|\n",
      "|        780|       1|     1|Robert, Mrs. Edwa...|female|43.0|    0|    1|211.3375|       S|\n",
      "+-----------+--------+------+--------------------+------+----+-----+-----+--------+--------+\n",
      "only showing top 20 rows\n",
      "\n"
     ]
    }
   ],
   "source": [
    "rdd5=rdd4.sort(rdd4.Fare.desc())\n",
    "rdd5.show()"
   ]
  },
  {
   "cell_type": "markdown",
   "id": "41ab6aa9",
   "metadata": {},
   "source": [
    "# contains only the passengers that survived"
   ]
  },
  {
   "cell_type": "code",
   "execution_count": 158,
   "id": "5e3d17ba",
   "metadata": {},
   "outputs": [
    {
     "name": "stdout",
     "output_type": "stream",
     "text": [
      "+-----------+--------+------+--------------------+------+----+-----+-----+--------+--------+\n",
      "|PassengerId|Survived|Pclass|                Name|   Sex| Age|SibSp|Parch|    Fare|Embarked|\n",
      "+-----------+--------+------+--------------------+------+----+-----+-----+--------+--------+\n",
      "|        738|       1|     1|Lesurer, Mr. Gust...|  male|35.0|    0|    0|512.3292|       C|\n",
      "|        259|       1|     1|    Ward, Miss. Anna|female|35.0|    0|    0|512.3292|       C|\n",
      "|        680|       1|     1|Cardeza, Mr. Thom...|  male|36.0|    0|    1|512.3292|       C|\n",
      "|         89|       1|     1|Fortune, Miss. Ma...|female|23.0|    3|    2|   263.0|       S|\n",
      "|        342|       1|     1|Fortune, Miss. Al...|female|24.0|    3|    2|   263.0|       S|\n",
      "|        743|       1|     1|\"Ryerson, Miss. S...|female|21.0|    2|    2| 262.375|       C|\n",
      "|        312|       1|     1|Ryerson, Miss. Em...|female|18.0|    2|    2| 262.375|       C|\n",
      "|        300|       1|     1|Baxter, Mrs. Jame...|female|50.0|    0|    1|247.5208|       C|\n",
      "|        701|       1|     1|Astor, Mrs. John ...|female|18.0|    1|    0| 227.525|       C|\n",
      "|        381|       1|     1|Bidois, Miss. Ros...|female|42.0|    0|    0| 227.525|       C|\n",
      "|        717|       1|     1|Endres, Miss. Car...|female|38.0|    0|    0| 227.525|       C|\n",
      "|        690|       1|     1|Madill, Miss. Geo...|female|15.0|    0|    1|211.3375|       S|\n",
      "|        731|       1|     1|Allen, Miss. Elis...|female|29.0|    0|    0|211.3375|       S|\n",
      "|        780|       1|     1|Robert, Mrs. Edwa...|female|43.0|    0|    1|211.3375|       S|\n",
      "|        857|       1|     1|Wick, Mrs. George...|female|45.0|    1|    1|164.8667|       S|\n",
      "|        319|       1|     1|Wick, Miss. Mary ...|female|31.0|    0|    2|164.8667|       S|\n",
      "|        269|       1|     1|Graham, Mrs. Will...|female|58.0|    0|    1|153.4625|       S|\n",
      "|        610|       1|     1|Shutes, Miss. Eli...|female|40.0|    0|    0|153.4625|       S|\n",
      "|        306|       1|     1|Allison, Master. ...|  male|0.92|    1|    2|  151.55|       S|\n",
      "|        709|       1|     1|Cleaver, Miss. Alice|female|22.0|    0|    0|  151.55|       S|\n",
      "+-----------+--------+------+--------------------+------+----+-----+-----+--------+--------+\n",
      "only showing top 20 rows\n",
      "\n"
     ]
    }
   ],
   "source": [
    "rdd6=rdd5.where(\"survived>0\")\n",
    "rdd6.show()"
   ]
  },
  {
   "cell_type": "markdown",
   "id": "4108cfa0",
   "metadata": {},
   "source": [
    "# Create a new dataframe(df_survived) which follow all the following condition at the same time from the original dataset\n",
    "1. All passengers should be male\n",
    "2. The age of each passenger should be greater than 40 but less than 50\n",
    "3. Passenger should not belong to 3rd PClass( Pclass not equal to 3)"
   ]
  },
  {
   "cell_type": "code",
   "execution_count": 159,
   "id": "a5f93222",
   "metadata": {},
   "outputs": [],
   "source": [
    "rdd7=rdd1.filter((rdd1.Sex==\"male\") & (rdd1.Age>40) & (rdd1.Age<50) & (rdd1.Pclass!=3))\n",
    "#rdd1.filter(col(\"Sex\") == \"male\") & (col(\"Age\")>40) & (col(\"Age\")<50) & (col(\"Pclass\")!=3).show()"
   ]
  },
  {
   "cell_type": "code",
   "execution_count": 160,
   "id": "b417bbfa",
   "metadata": {},
   "outputs": [
    {
     "name": "stdout",
     "output_type": "stream",
     "text": [
      "+-----------+--------+------+--------------------+----+----+-----+-----+------------+-------+-----+--------+\n",
      "|PassengerId|Survived|Pclass|                Name| Sex| Age|SibSp|Parch|      Ticket|   Fare|Cabin|Embarked|\n",
      "+-----------+--------+------+--------------------+----+----+-----+-----+------------+-------+-----+--------+\n",
      "|         36|       0|     1|Holverson, Mr. Al...|male|42.0|    1|    0|      113789|   52.0| null|       S|\n",
      "|         63|       0|     1|Harris, Mr. Henry...|male|45.0|    1|    0|       36973| 83.475|  C83|       S|\n",
      "|         93|       0|     1|Chaffee, Mr. Herb...|male|46.0|    1|    0| W.E.P. 5734| 61.175|  E31|       S|\n",
      "|        111|       0|     1|Porter, Mr. Walte...|male|47.0|    0|    0|      110465|   52.0| C110|       S|\n",
      "|        150|       0|     2|Byles, Rev. Thoma...|male|42.0|    0|    0|      244310|   13.0| null|       S|\n",
      "|        188|       1|     1|\"Romaine, Mr. Cha...|male|45.0|    0|    0|      111428|  26.55| null|       S|\n",
      "|        218|       0|     2|Jacobsohn, Mr. Si...|male|42.0|    1|    0|      243847|   27.0| null|       S|\n",
      "|        237|       0|     2|   Hold, Mr. Stephen|male|44.0|    1|    0|       26707|   26.0| null|       S|\n",
      "|        246|       0|     1|Minahan, Dr. Will...|male|44.0|    2|    0|       19928|   90.0|  C78|       Q|\n",
      "|        289|       1|     2|Hosono, Mr. Masabumi|male|42.0|    0|    0|      237798|   13.0| null|       S|\n",
      "|        315|       0|     2|  Hart, Mr. Benjamin|male|43.0|    1|    1|F.C.C. 13529|  26.25| null|       S|\n",
      "|        332|       0|     1| Partner, Mr. Austen|male|45.5|    0|    0|      113043|   28.5| C124|       S|\n",
      "|        340|       0|     1|Blackwell, Mr. St...|male|45.0|    0|    0|      113784|   35.5|    T|       S|\n",
      "|        398|       0|     2|McKane, Mr. Peter...|male|46.0|    0|    0|       28403|   26.0| null|       S|\n",
      "|        454|       1|     1|Goldenberg, Mr. S...|male|49.0|    1|    0|       17453|89.1042|  C92|       C|\n",
      "|        461|       1|     1| Anderson, Mr. Harry|male|48.0|    0|    0|       19952|  26.55|  E12|       S|\n",
      "|        463|       0|     1|   Gee, Mr. Arthur H|male|47.0|    0|    0|      111320|   38.5|  E63|       S|\n",
      "|        464|       0|     2|Milling, Mr. Jaco...|male|48.0|    0|    0|      234360|   13.0| null|       S|\n",
      "|        516|       0|     1|Walker, Mr. Willi...|male|47.0|    0|    0|       36967|34.0208|  D46|       S|\n",
      "|        537|       0|     1|Butt, Major. Arch...|male|45.0|    0|    0|      113050|  26.55|  B38|       S|\n",
      "+-----------+--------+------+--------------------+----+----+-----+-----+------------+-------+-----+--------+\n",
      "only showing top 20 rows\n",
      "\n"
     ]
    }
   ],
   "source": [
    "rdd7.show()"
   ]
  },
  {
   "cell_type": "markdown",
   "id": "575d959d",
   "metadata": {},
   "source": [
    "# Perform the following preprocess steps on the above df_survived dataframe\n",
    "1. Add 2 new columns first_name and second_name by splitting the Name column on comma(,)\n",
    "2. Remove the prefixes from the second name( ex Mr. , Dr. etc)\n",
    "3. Trim/Strip all the white spaces in above 2 columns( no space before and after the string in each cell)\n",
    "Your output should look like the below value in last 2 columns\n",
    "\n"
   ]
  },
  {
   "cell_type": "code",
   "execution_count": 161,
   "id": "128fd408",
   "metadata": {},
   "outputs": [],
   "source": [
    "rdd8=rdd7.withColumn(\"first_Name\", split(col(\"Name\"), \",\").getItem(0)).withColumn(\"Last_Name\", split(col(\"Name\"), \",\").getItem(1))\n",
    "\n"
   ]
  },
  {
   "cell_type": "code",
   "execution_count": 162,
   "id": "27f03cd7",
   "metadata": {},
   "outputs": [
    {
     "name": "stdout",
     "output_type": "stream",
     "text": [
      "+-----------+--------+------+--------------------+----+----+-----+-----+------------+-------+-----+--------+----------+--------------------+\n",
      "|PassengerId|Survived|Pclass|                Name| Sex| Age|SibSp|Parch|      Ticket|   Fare|Cabin|Embarked|first_Name|           Last_Name|\n",
      "+-----------+--------+------+--------------------+----+----+-----+-----+------------+-------+-----+--------+----------+--------------------+\n",
      "|         36|       0|     1|Holverson, Mr. Al...|male|42.0|    1|    0|      113789|   52.0| null|       S| Holverson|     Alexander Oskar|\n",
      "|         63|       0|     1|Harris, Mr. Henry...|male|45.0|    1|    0|       36973| 83.475|  C83|       S|    Harris|     Henry Birkhardt|\n",
      "|         93|       0|     1|Chaffee, Mr. Herb...|male|46.0|    1|    0| W.E.P. 5734| 61.175|  E31|       S|   Chaffee|      Herbert Fuller|\n",
      "|        111|       0|     1|Porter, Mr. Walte...|male|47.0|    0|    0|      110465|   52.0| C110|       S|    Porter|  Walter Chamberlain|\n",
      "|        150|       0|     2|Byles, Rev. Thoma...|male|42.0|    0|    0|      244310|   13.0| null|       S|     Byles| Rev. Thomas Rous...|\n",
      "|        188|       1|     1|\"Romaine, Mr. Cha...|male|45.0|    0|    0|      111428|  26.55| null|       S|  \"Romaine| Charles Hallace ...|\n",
      "|        218|       0|     2|Jacobsohn, Mr. Si...|male|42.0|    1|    0|      243847|   27.0| null|       S| Jacobsohn|       Sidney Samuel|\n",
      "|        237|       0|     2|   Hold, Mr. Stephen|male|44.0|    1|    0|       26707|   26.0| null|       S|      Hold|             Stephen|\n",
      "|        246|       0|     1|Minahan, Dr. Will...|male|44.0|    2|    0|       19928|   90.0|  C78|       Q|   Minahan|      William Edward|\n",
      "|        289|       1|     2|Hosono, Mr. Masabumi|male|42.0|    0|    0|      237798|   13.0| null|       S|    Hosono|            Masabumi|\n",
      "|        315|       0|     2|  Hart, Mr. Benjamin|male|43.0|    1|    1|F.C.C. 13529|  26.25| null|       S|      Hart|            Benjamin|\n",
      "|        332|       0|     1| Partner, Mr. Austen|male|45.5|    0|    0|      113043|   28.5| C124|       S|   Partner|              Austen|\n",
      "|        340|       0|     1|Blackwell, Mr. St...|male|45.0|    0|    0|      113784|   35.5|    T|       S| Blackwell|       Stephen Weart|\n",
      "|        398|       0|     2|McKane, Mr. Peter...|male|46.0|    0|    0|       28403|   26.0| null|       S|    McKane|         Peter David|\n",
      "|        454|       1|     1|Goldenberg, Mr. S...|male|49.0|    1|    0|       17453|89.1042|  C92|       C|Goldenberg|            Samuel L|\n",
      "|        461|       1|     1| Anderson, Mr. Harry|male|48.0|    0|    0|       19952|  26.55|  E12|       S|  Anderson|               Harry|\n",
      "|        463|       0|     1|   Gee, Mr. Arthur H|male|47.0|    0|    0|      111320|   38.5|  E63|       S|       Gee|            Arthur H|\n",
      "|        464|       0|     2|Milling, Mr. Jaco...|male|48.0|    0|    0|      234360|   13.0| null|       S|   Milling|     Jacob Christian|\n",
      "|        516|       0|     1|Walker, Mr. Willi...|male|47.0|    0|    0|       36967|34.0208|  D46|       S|    Walker|    William Anderson|\n",
      "|        537|       0|     1|Butt, Major. Arch...|male|45.0|    0|    0|      113050|  26.55|  B38|       S|      Butt| Major. Archibald...|\n",
      "+-----------+--------+------+--------------------+----+----+-----+-----+------------+-------+-----+--------+----------+--------------------+\n",
      "only showing top 20 rows\n",
      "\n"
     ]
    }
   ],
   "source": [
    "rdd9=rdd8.withColumn('Last_Name',regexp_replace('Last_Name','Mr. |Dr. ',''))\n",
    "rdd9.show()"
   ]
  },
  {
   "cell_type": "markdown",
   "id": "e0b3c689",
   "metadata": {},
   "source": [
    "# Perform the following additional preprocess steps on the above df_survived dataframe\n",
    "1. Add a new column economy_group which contain values \"Rich\" or \"Not Rich\" depend on whether the Pclass is 1 or not respectively\n",
    "2. Add a new column age_group which contain values \"old\" if age is more than 50, \"child\" if age is less than 15 otherwise \"young\"\n",
    "3. Add a new column name_length which contain the string length for Name column"
   ]
  },
  {
   "cell_type": "code",
   "execution_count": 164,
   "id": "2de0150b",
   "metadata": {},
   "outputs": [
    {
     "name": "stdout",
     "output_type": "stream",
     "text": [
      "+-----------+--------+------+--------------------+----+----+-----+-----+------------+-------+-----+--------+----------+--------------------+-------------+---------+-----------+\n",
      "|PassengerId|Survived|Pclass|                Name| Sex| Age|SibSp|Parch|      Ticket|   Fare|Cabin|Embarked|first_Name|           Last_Name|Economy_Group|Age_Group|Name_Length|\n",
      "+-----------+--------+------+--------------------+----+----+-----+-----+------------+-------+-----+--------+----------+--------------------+-------------+---------+-----------+\n",
      "|         36|       0|     1|Holverson, Mr. Al...|male|42.0|    1|    0|      113789|   52.0| null|       S| Holverson|     Alexander Oskar|         Rich|    young|          9|\n",
      "|         63|       0|     1|Harris, Mr. Henry...|male|45.0|    1|    0|       36973| 83.475|  C83|       S|    Harris|     Henry Birkhardt|         Rich|    young|          6|\n",
      "|         93|       0|     1|Chaffee, Mr. Herb...|male|46.0|    1|    0| W.E.P. 5734| 61.175|  E31|       S|   Chaffee|      Herbert Fuller|         Rich|    young|          7|\n",
      "|        111|       0|     1|Porter, Mr. Walte...|male|47.0|    0|    0|      110465|   52.0| C110|       S|    Porter|  Walter Chamberlain|         Rich|    young|          6|\n",
      "|        150|       0|     2|Byles, Rev. Thoma...|male|42.0|    0|    0|      244310|   13.0| null|       S|     Byles| Rev. Thomas Rous...|     Not Rich|    young|          5|\n",
      "|        188|       1|     1|\"Romaine, Mr. Cha...|male|45.0|    0|    0|      111428|  26.55| null|       S|  \"Romaine| Charles Hallace ...|         Rich|    young|          8|\n",
      "|        218|       0|     2|Jacobsohn, Mr. Si...|male|42.0|    1|    0|      243847|   27.0| null|       S| Jacobsohn|       Sidney Samuel|     Not Rich|    young|          9|\n",
      "|        237|       0|     2|   Hold, Mr. Stephen|male|44.0|    1|    0|       26707|   26.0| null|       S|      Hold|             Stephen|     Not Rich|    young|          4|\n",
      "|        246|       0|     1|Minahan, Dr. Will...|male|44.0|    2|    0|       19928|   90.0|  C78|       Q|   Minahan|      William Edward|         Rich|    young|          7|\n",
      "|        289|       1|     2|Hosono, Mr. Masabumi|male|42.0|    0|    0|      237798|   13.0| null|       S|    Hosono|            Masabumi|     Not Rich|    young|          6|\n",
      "|        315|       0|     2|  Hart, Mr. Benjamin|male|43.0|    1|    1|F.C.C. 13529|  26.25| null|       S|      Hart|            Benjamin|     Not Rich|    young|          4|\n",
      "|        332|       0|     1| Partner, Mr. Austen|male|45.5|    0|    0|      113043|   28.5| C124|       S|   Partner|              Austen|         Rich|    young|          7|\n",
      "|        340|       0|     1|Blackwell, Mr. St...|male|45.0|    0|    0|      113784|   35.5|    T|       S| Blackwell|       Stephen Weart|         Rich|    young|          9|\n",
      "|        398|       0|     2|McKane, Mr. Peter...|male|46.0|    0|    0|       28403|   26.0| null|       S|    McKane|         Peter David|     Not Rich|    young|          6|\n",
      "|        454|       1|     1|Goldenberg, Mr. S...|male|49.0|    1|    0|       17453|89.1042|  C92|       C|Goldenberg|            Samuel L|         Rich|    young|         10|\n",
      "|        461|       1|     1| Anderson, Mr. Harry|male|48.0|    0|    0|       19952|  26.55|  E12|       S|  Anderson|               Harry|         Rich|    young|          8|\n",
      "|        463|       0|     1|   Gee, Mr. Arthur H|male|47.0|    0|    0|      111320|   38.5|  E63|       S|       Gee|            Arthur H|         Rich|    young|          3|\n",
      "|        464|       0|     2|Milling, Mr. Jaco...|male|48.0|    0|    0|      234360|   13.0| null|       S|   Milling|     Jacob Christian|     Not Rich|    young|          7|\n",
      "|        516|       0|     1|Walker, Mr. Willi...|male|47.0|    0|    0|       36967|34.0208|  D46|       S|    Walker|    William Anderson|         Rich|    young|          6|\n",
      "|        537|       0|     1|Butt, Major. Arch...|male|45.0|    0|    0|      113050|  26.55|  B38|       S|      Butt| Major. Archibald...|         Rich|    young|          4|\n",
      "+-----------+--------+------+--------------------+----+----+-----+-----+------------+-------+-----+--------+----------+--------------------+-------------+---------+-----------+\n",
      "only showing top 20 rows\n",
      "\n"
     ]
    }
   ],
   "source": [
    "rdd10=rdd9.withColumn(\"Economy_Group\",when(col(\"Pclass\")==1,\"Rich\").otherwise(\"Not Rich\"))\n",
    "rdd10=rdd10.withColumn(\"Age_Group\",when(col(\"Age\")>50,\"old\"). when(col(\"Age\")<15,\"child\").otherwise(\"young\"))\n",
    "rdd10=rdd10.withColumn(\"Name_Length\",length(\"first_Name\"))\n",
    "rdd10.show()"
   ]
  },
  {
   "cell_type": "code",
   "execution_count": null,
   "id": "0216a85b",
   "metadata": {},
   "outputs": [],
   "source": []
  }
 ],
 "metadata": {
  "kernelspec": {
   "display_name": "Python 3 (ipykernel)",
   "language": "python",
   "name": "python3"
  },
  "language_info": {
   "codemirror_mode": {
    "name": "ipython",
    "version": 3
   },
   "file_extension": ".py",
   "mimetype": "text/x-python",
   "name": "python",
   "nbconvert_exporter": "python",
   "pygments_lexer": "ipython3",
   "version": "3.8.0"
  }
 },
 "nbformat": 4,
 "nbformat_minor": 5
}
